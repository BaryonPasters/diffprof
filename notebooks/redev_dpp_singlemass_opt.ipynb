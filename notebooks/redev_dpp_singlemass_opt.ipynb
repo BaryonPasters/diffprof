{
 "cells": [
  {
   "cell_type": "code",
   "execution_count": 1,
   "id": "8ac266a3",
   "metadata": {},
   "outputs": [],
   "source": [
    "import matplotlib.cm as cm\n",
    "from time import time\n",
    "from matplotlib import lines as mlines\n",
    "import numpy as np\n",
    "from jax import random as jran\n",
    "\n",
    "ran_key = jran.PRNGKey(180)"
   ]
  },
  {
   "cell_type": "markdown",
   "id": "0134ea65",
   "metadata": {},
   "source": [
    "### Call the target data generator to compute $\\langle\\log_{10}c(t)\\vert M_0\\rangle$"
   ]
  },
  {
   "cell_type": "code",
   "execution_count": 2,
   "id": "302fbe83",
   "metadata": {},
   "outputs": [
    {
     "name": "stdout",
     "output_type": "stream",
     "text": [
      "['halo_id', 'conc_beta_early', 'conc_beta_late', 'conc_k', 'conc_lgtc', 'u_conc_beta_early', 'u_conc_beta_late', 'u_conc_k', 'u_conc_lgtc', 'logmp', 'mah_early', 'mah_late', 'mah_logtc', 'mah_k', 'log_mah_fit', 'conch_fit', 'tform_50', 'p_tform_50']\n"
     ]
    }
   ],
   "source": [
    "import os\n",
    "from astropy.table import Table\n",
    "diffprof_drn = \"/Users/aphearin/work/DATA/diffprof_data\"\n",
    "mdpl2 = Table.read(os.path.join(diffprof_drn, \"MDPL2_halo_table.hdf5\"))\n",
    "bpl = Table.read(os.path.join(diffprof_drn, \"BPL_halo_table.hdf5\"))\n",
    "print(bpl.keys())"
   ]
  },
  {
   "cell_type": "code",
   "execution_count": 3,
   "id": "39ec58a3",
   "metadata": {},
   "outputs": [],
   "source": [
    "from diffprof.nfw_evolution import lgc_vs_lgt\n",
    "\n",
    "lgc_vs_lgt_vmap = jjit(jvmap(lgc_vs_lgt, in_axes=(None, 0, 0, 0, 0)))\n",
    "\n",
    "N_T = 25\n",
    "TARR_FIT = np.linspace(3.5, 13.8, N_T)\n",
    "\n",
    "lgconc_history_bpl = np.array(lgc_vs_lgt_vmap(\n",
    "    np.log10(TARR_FIT), bpl[\"conc_lgtc\"], bpl[\"conc_k\"], bpl[\"conc_beta_early\"], bpl[\"conc_beta_late\"]))\n",
    "lgconc_history_mdpl2 = np.array(lgc_vs_lgt_vmap(\n",
    "    np.log10(TARR_FIT), mdpl2[\"conc_lgtc\"], mdpl2[\"conc_k\"], mdpl2[\"conc_beta_early\"], mdpl2[\"conc_beta_late\"]))\n"
   ]
  },
  {
   "cell_type": "code",
   "execution_count": 4,
   "id": "61e6c6c9",
   "metadata": {},
   "outputs": [],
   "source": [
    "from diffprof.latin_hypercube import get_scipy_kdtree, retrieve_lh_sample_indices\n",
    "tree_bpl = get_scipy_kdtree(bpl['logmp'])\n",
    "tree_mdpl2 = get_scipy_kdtree(mdpl2['logmp'])\n",
    "\n",
    "indx_bpl = retrieve_lh_sample_indices(tree_bpl, 11.35, 13.65, 1, 100_000)\n",
    "indx_mdpl2 = retrieve_lh_sample_indices(tree_mdpl2, 13.4, 14.6, 1, 100_000)"
   ]
  },
  {
   "cell_type": "code",
   "execution_count": 5,
   "id": "74ddb72c",
   "metadata": {},
   "outputs": [],
   "source": [
    "from diffprof.get_target_simdata import target_data_generator\n",
    "\n",
    "N_MH_TARGETS, N_P_TARGETS = 10, 15\n",
    "\n",
    "args = (bpl['logmp'][indx_bpl],\n",
    "    mdpl2['logmp'][indx_mdpl2],\n",
    "    lgconc_history_bpl[indx_bpl],\n",
    "    lgconc_history_mdpl2[indx_mdpl2],\n",
    "    bpl['p_tform_50'][indx_bpl],\n",
    "    mdpl2['p_tform_50'][indx_mdpl2],\n",
    "    N_MH_TARGETS,\n",
    "    N_P_TARGETS,\n",
    "       )\n",
    "gen = target_data_generator(*args, lgmh_min=12.25, lgmh_max=14.5, p50_min=0.1, p50_max=0.9)"
   ]
  },
  {
   "cell_type": "code",
   "execution_count": 6,
   "id": "a0602b8c",
   "metadata": {},
   "outputs": [
    {
     "data": {
      "text/plain": [
       "(10, 15, 25)"
      ]
     },
     "execution_count": 6,
     "metadata": {},
     "output_type": "execute_result"
    }
   ],
   "source": [
    "target_data = next(gen)\n",
    "lgmhalo_targets, p50_targets = target_data[0:2]\n",
    "target_avg_log_conc_lgm0, target_std_log_conc_lgm0 = target_data[2:4]\n",
    "target_avg_log_conc_p50_lgm0, _target_std_log_conc_p50_lgm0 = target_data[4:]\n",
    "_target_std_log_conc_p50_lgm0.shape"
   ]
  },
  {
   "cell_type": "markdown",
   "id": "63769821",
   "metadata": {},
   "source": [
    "### Call the target data model to compute $\\langle\\log_{10}c(t)\\vert M_0,p_{50\\%}\\rangle$"
   ]
  },
  {
   "cell_type": "code",
   "execution_count": 7,
   "id": "e27de0f4",
   "metadata": {},
   "outputs": [],
   "source": [
    "from diffprof import target_data_model as tdm\n",
    "\n",
    "_tdm_params = np.array(list(tdm.target_data_model_params_mean_lgconc.values()))\n",
    "im = 0\n",
    "x = [tdm.approximate_lgconc_vs_lgm_p50(TARR_FIT, lgmhalo_targets[im], p, *_tdm_params) for p in p50_targets]\n",
    "_s = (p50_targets.shape[0], TARR_FIT.shape[0])\n",
    "target_avg_log_conc_p50 = np.concatenate([*x]).reshape((_s))"
   ]
  },
  {
   "cell_type": "code",
   "execution_count": null,
   "id": "3c13c5ae",
   "metadata": {},
   "outputs": [],
   "source": []
  },
  {
   "cell_type": "markdown",
   "id": "b75a644c",
   "metadata": {},
   "source": [
    "### Call the target data model to compute $\\sigma\\left(\\log_{10}c(t)\\vert M_0,p_{50\\%}\\right)$"
   ]
  },
  {
   "cell_type": "code",
   "execution_count": 8,
   "id": "8546cdfd",
   "metadata": {},
   "outputs": [
    {
     "data": {
      "text/plain": [
       "(15,)"
      ]
     },
     "execution_count": 8,
     "metadata": {},
     "output_type": "execute_result"
    }
   ],
   "source": [
    "target_std_lgc_lgm = tdm.approx_std_lgconc_vs_lgm(\n",
    "    TARR_FIT, lgmhalo_targets[im], *tdm.target_data_model_params_std_lgconc.values())\n",
    "\n",
    "_pars = list(tdm.target_data_model_params_std_lgconc_p50.values())\n",
    "target_std_log_conc_p50 = np.array(\n",
    "    [tdm._scatter_vs_p50_and_lgmhalo(lgmhalo_targets[im], p, *_pars) for p in p50_targets])\n",
    "target_std_log_conc_p50.shape"
   ]
  },
  {
   "cell_type": "code",
   "execution_count": 9,
   "id": "edfd0e85",
   "metadata": {},
   "outputs": [
    {
     "data": {
      "text/plain": [
       "array([0.05326305, 0.05382594, 0.05517313, 0.05624808, 0.05783793,\n",
       "       0.05973906, 0.0616047 , 0.06381529, 0.06619444, 0.06748861,\n",
       "       0.0685598 , 0.07088843, 0.07226822, 0.07359176, 0.07431579],\n",
       "      dtype=float32)"
      ]
     },
     "execution_count": 9,
     "metadata": {},
     "output_type": "execute_result"
    }
   ],
   "source": [
    "target_std_log_conc_p50"
   ]
  },
  {
   "cell_type": "code",
   "execution_count": 10,
   "id": "eda5f521",
   "metadata": {},
   "outputs": [
    {
     "data": {
      "image/png": "[encoded data removed]",
      "text/plain": [
       "<Figure size 432x288 with 1 Axes>"
      ]
     },
     "metadata": {},
     "output_type": "display_data"
    }
   ],
   "source": [
    "ztt = np.zeros(N_T)\n",
    "target_std_log_conc_p50_lgm0 = np.zeros((N_MH_TARGETS, N_P_TARGETS, N_T))\n",
    "for im in range(N_MH_TARGETS):\n",
    "    for ip in range(N_P_TARGETS):\n",
    "        scatter = tdm._scatter_vs_p50_and_lgmhalo(lgmhalo_targets[im], p50_targets[ip], *_pars)\n",
    "        target_std_log_conc_p50_lgm0[im, ip, :] = ztt + scatter\n",
    "\n",
    "\n",
    "fig, ax = plt.subplots(1, 1)\n",
    "xlim = ax.set_xlim(0.5, 13.9)\n",
    "ylim = ax.set_ylim(0, 0.15)\n",
    "xlabel = ax.set_xlabel(r'${\\rm cosmic\\ time\\ [Gyr]}$')\n",
    "ylabel = ax.set_ylabel(r'$\\langle{\\rm conc}(t)\\ \\vert\\ M_{\\odot},\\ p_{50\\%}\\rangle$')\n",
    "\n",
    "im = 0\n",
    "__=ax.plot(TARR_FIT, target_std_log_conc_p50_lgm0[im, 2, :])\n",
    "__=ax.plot(TARR_FIT, target_std_log_conc_p50_lgm0[im, 8, :])\n",
    "__=ax.plot(TARR_FIT, target_std_log_conc_p50_lgm0[im, -1, :])\n"
   ]
  },
  {
   "cell_type": "code",
   "execution_count": null,
   "id": "20d0286d",
   "metadata": {},
   "outputs": [],
   "source": []
  },
  {
   "cell_type": "code",
   "execution_count": 11,
   "id": "5df539e0",
   "metadata": {},
   "outputs": [],
   "source": [
    "from dev_new_loss import _mse_loss_multimass, _get_grid_data\n",
    "from diffprof.dpp_opt import get_u_param_grids\n",
    "from diffprof.bpl_dpp import DEFAULT_PARAMS\n",
    "\n",
    "n_grid = 2500\n",
    "grid_key, ran_key = jran.split(ran_key, 2)\n",
    "u_be_grid, u_lgtc_bl_grid = get_u_param_grids(grid_key, n_grid)\n",
    "\n",
    "grid_data = _get_grid_data(p50_targets, TARR_FIT, u_be_grid, u_lgtc_bl_grid)"
   ]
  },
  {
   "cell_type": "code",
   "execution_count": 12,
   "id": "95f51594",
   "metadata": {},
   "outputs": [
    {
     "data": {
      "text/plain": [
       "DeviceArray(0.00331639, dtype=float32)"
      ]
     },
     "execution_count": 12,
     "metadata": {},
     "output_type": "execute_result"
    }
   ],
   "source": [
    "dpp_params = np.array(list(DEFAULT_PARAMS.values()))\n",
    "\n",
    "_mse_loss_multimass(\n",
    "    dpp_params, grid_data, lgmhalo_targets, \n",
    "    target_avg_log_conc_p50_lgm0, target_avg_log_conc_lgm0, target_std_log_conc_p50_lgm0)"
   ]
  },
  {
   "cell_type": "code",
   "execution_count": 21,
   "id": "0ae2b73b",
   "metadata": {},
   "outputs": [
    {
     "data": {
      "text/plain": [
       "(10, 15, 25)"
      ]
     },
     "execution_count": 21,
     "metadata": {},
     "output_type": "execute_result"
    }
   ],
   "source": [
    "target_avg_log_conc_p50_lgm0.shape"
   ]
  },
  {
   "cell_type": "code",
   "execution_count": 13,
   "id": "d10d461e",
   "metadata": {},
   "outputs": [
    {
     "data": {
      "text/plain": [
       "DeviceArray(0.00331639, dtype=float32)"
      ]
     },
     "execution_count": 13,
     "metadata": {},
     "output_type": "execute_result"
    }
   ],
   "source": [
    "from diffprof.fitting_helpers.utils import jax_adam_wrapper\n",
    "from dev_new_loss import _global_loss_func\n",
    "\n",
    "global_loss_data = (grid_data, lgmhalo_targets, target_avg_log_conc_p50_lgm0,\n",
    "                    target_avg_log_conc_lgm0, target_std_log_conc_p50_lgm0)\n",
    "_global_loss_func(dpp_params, global_loss_data)\n"
   ]
  },
  {
   "cell_type": "code",
   "execution_count": 14,
   "id": "c9c643f9",
   "metadata": {},
   "outputs": [
    {
     "data": {
      "image/png": "[encoded data removed]",
      "text/plain": [
       "<Figure size 432x288 with 1 Axes>"
      ]
     },
     "metadata": {},
     "output_type": "display_data"
    }
   ],
   "source": [
    "n_steps = 500\n",
    "_res = jax_adam_wrapper(_global_loss_func, dpp_params, global_loss_data, n_steps, n_warmup=2)\n",
    "p_best, loss, loss_history = _res[:3]\n",
    "\n",
    "fig, ax = plt.subplots(1, 1)\n",
    "__=ax.plot(np.log10(loss_history))"
   ]
  },
  {
   "cell_type": "markdown",
   "id": "92f63850",
   "metadata": {},
   "source": [
    "### Check predictions"
   ]
  },
  {
   "cell_type": "code",
   "execution_count": 31,
   "id": "c4a975fb",
   "metadata": {},
   "outputs": [
    {
     "data": {
      "image/png": "[encoded data removed]",
      "text/plain": [
       "<Figure size 432x288 with 1 Axes>"
      ]
     },
     "metadata": {},
     "output_type": "display_data"
    }
   ],
   "source": [
    "from diffprof.dpp_predictions import _get_preds_singlemass\n",
    "\n",
    "im = 0\n",
    "preds_singlemass = _get_preds_singlemass(\n",
    "    dpp_params, lgmhalo_targets[im], TARR_FIT, p50_targets, u_be_grid, u_lgtc_bl_grid)\n",
    "pred_avg_log_conc_p50, pred_avg_log_conc_lgm0, pred_std_log_conc_lgm0, pred_std_log_conc_p50 = preds_singlemass\n",
    "\n",
    "preds_singlemass = _get_preds_singlemass(\n",
    "    p_best, lgmhalo_targets[im], TARR_FIT, p50_targets, u_be_grid, u_lgtc_bl_grid)\n",
    "pb_pred_avg_log_conc_p50, pb_pred_avg_log_conc_lgm0 = preds_singlemass[:2]\n",
    "pb_pred_std_log_conc_lgm0, pb_pred_std_log_conc_p50 = preds_singlemass[2:]\n",
    "\n",
    "\n",
    "fig, ax = plt.subplots(1, 1)\n",
    "xlim = ax.set_xlim(0.5, 13.9)\n",
    "xlabel = ax.set_xlabel(r'${\\rm cosmic\\ time\\ [Gyr]}$')\n",
    "ylabel = ax.set_ylabel(r'$\\langle{\\rm conc}(t)\\ \\vert\\ M_{\\odot},\\ p_{50\\%}\\rangle$')\n",
    "\n",
    "ip = -5\n",
    "__=ax.plot(TARR_FIT, target_avg_log_conc_p50_lgm0[im, ip, :])\n",
    "__=ax.plot(TARR_FIT, pred_avg_log_conc_p50[ip, :], '--')\n",
    "__=ax.plot(TARR_FIT, pb_pred_avg_log_conc_p50[ip, :], '--')\n",
    "\n",
    "# im = 0\n",
    "# __=ax.plot(TARR_FIT, target_avg_log_conc_lgm0[im, :])\n",
    "# __=ax.plot(TARR_FIT, pred_avg_log_conc_lgm0, '--')\n",
    "# __=ax.plot(TARR_FIT, pb_pred_avg_log_conc_lgm0, '--')\n"
   ]
  },
  {
   "cell_type": "code",
   "execution_count": 32,
   "id": "e2dd67eb",
   "metadata": {},
   "outputs": [
    {
     "data": {
      "text/plain": [
       "(0.012499866, 0.004882527)"
      ]
     },
     "execution_count": 32,
     "metadata": {},
     "output_type": "execute_result"
    }
   ],
   "source": [
    "diff = target_avg_log_conc_lgm0[im, :]-pred_avg_log_conc_lgm0\n",
    "pb_diff = target_avg_log_conc_lgm0[im, :]-pb_pred_avg_log_conc_lgm0\n",
    "\n",
    "np.sqrt(np.mean(diff**2)), np.sqrt(np.mean(pb_diff**2))"
   ]
  },
  {
   "cell_type": "code",
   "execution_count": 34,
   "id": "469b16c0",
   "metadata": {},
   "outputs": [
    {
     "data": {
      "image/png": "[encoded data removed]",
      "text/plain": [
       "<Figure size 432x288 with 1 Axes>"
      ]
     },
     "metadata": {},
     "output_type": "display_data"
    }
   ],
   "source": [
    "fig, ax = plt.subplots(1, 1)\n",
    "xlim = ax.set_xlim(0.5, 13.9)\n",
    "ylim = ax.set_ylim(0, 0.15)\n",
    "xlabel = ax.set_xlabel(r'${\\rm cosmic\\ time\\ [Gyr]}$')\n",
    "ylabel = ax.set_ylabel(r'$\\langle{\\rm conc}(t)\\ \\vert\\ M_{\\odot},\\ p_{50\\%}\\rangle$')\n",
    "\n",
    "im = 4\n",
    "ip = -1\n",
    "__=ax.plot(TARR_FIT, target_std_log_conc_p50_lgm0[im, ip, :])\n",
    "__=ax.plot(TARR_FIT, pred_std_log_conc_p50[ip, :], '--')\n",
    "__=ax.plot(TARR_FIT, pb_pred_std_log_conc_p50[ip, :], '--')"
   ]
  },
  {
   "cell_type": "code",
   "execution_count": 20,
   "id": "b60ba7c7",
   "metadata": {},
   "outputs": [
    {
     "data": {
      "text/plain": [
       "(15, 25)"
      ]
     },
     "execution_count": 20,
     "metadata": {},
     "output_type": "execute_result"
    }
   ],
   "source": [
    "target_avg_log_conc_p50.shape"
   ]
  },
  {
   "cell_type": "code",
   "execution_count": null,
   "id": "5324c4ac",
   "metadata": {},
   "outputs": [],
   "source": []
  }
 ],
 "metadata": {
  "kernelspec": {
   "display_name": "Python 3 (ipykernel)",
   "language": "python",
   "name": "python3"
  },
  "language_info": {
   "codemirror_mode": {
    "name": "ipython",
    "version": 3
   },
   "file_extension": ".py",
   "mimetype": "text/x-python",
   "name": "python",
   "nbconvert_exporter": "python",
   "pygments_lexer": "ipython3",
   "version": "3.9.13"
  }
 },
 "nbformat": 4,
 "nbformat_minor": 5
}
