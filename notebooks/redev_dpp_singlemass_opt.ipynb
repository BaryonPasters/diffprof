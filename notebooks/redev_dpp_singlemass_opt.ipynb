{
 "cells": [
  {
   "cell_type": "code",
   "execution_count": 1,
   "id": "8680f1e4",
   "metadata": {},
   "outputs": [],
   "source": [
    "import matplotlib.cm as cm\n",
    "from time import time\n",
    "from matplotlib import lines as mlines\n",
    "import numpy as np\n",
    "from jax import random as jran\n",
    "\n",
    "ran_key = jran.PRNGKey(0)"
   ]
  },
  {
   "cell_type": "markdown",
   "id": "300525c5",
   "metadata": {},
   "source": [
    "### Call the target data generator to compute $\\langle\\log_{10}c(t)\\vert M_0\\rangle$"
   ]
  },
  {
   "cell_type": "code",
   "execution_count": 2,
   "id": "6d266e0b",
   "metadata": {},
   "outputs": [
    {
     "name": "stdout",
     "output_type": "stream",
     "text": [
      "['halo_id', 'conc_beta_early', 'conc_beta_late', 'conc_k', 'conc_lgtc', 'u_conc_beta_early', 'u_conc_beta_late', 'u_conc_k', 'u_conc_lgtc', 'logmp', 'mah_early', 'mah_late', 'mah_logtc', 'mah_k', 'log_mah_fit', 'conch_fit', 'tform_50', 'p_tform_50']\n"
     ]
    }
   ],
   "source": [
    "import os\n",
    "from astropy.table import Table\n",
    "diffprof_drn = \"/Users/aphearin/work/DATA/diffprof_data\"\n",
    "mdpl2 = Table.read(os.path.join(diffprof_drn, \"MDPL2_halo_table.hdf5\"))\n",
    "bpl = Table.read(os.path.join(diffprof_drn, \"BPL_halo_table.hdf5\"))\n",
    "print(bpl.keys())"
   ]
  },
  {
   "cell_type": "code",
   "execution_count": 3,
   "id": "7b0e7ce2",
   "metadata": {},
   "outputs": [],
   "source": [
    "from diffprof.nfw_evolution import lgc_vs_lgt\n",
    "\n",
    "lgc_vs_lgt_vmap = jjit(jvmap(lgc_vs_lgt, in_axes=(None, 0, 0, 0, 0)))\n",
    "\n",
    "N_T = 25\n",
    "TARR_FIT = np.linspace(2, 13.8, N_T)\n",
    "\n",
    "lgconc_history_bpl = np.array(lgc_vs_lgt_vmap(\n",
    "    np.log10(TARR_FIT), bpl[\"conc_lgtc\"], bpl[\"conc_k\"], bpl[\"conc_beta_early\"], bpl[\"conc_beta_late\"]))\n",
    "lgconc_history_mdpl2 = np.array(lgc_vs_lgt_vmap(\n",
    "    np.log10(TARR_FIT), mdpl2[\"conc_lgtc\"], mdpl2[\"conc_k\"], mdpl2[\"conc_beta_early\"], mdpl2[\"conc_beta_late\"]))\n"
   ]
  },
  {
   "cell_type": "code",
   "execution_count": 4,
   "id": "70cefd15",
   "metadata": {},
   "outputs": [],
   "source": [
    "from diffprof.latin_hypercube import get_scipy_kdtree, retrieve_lh_sample_indices\n",
    "tree_bpl = get_scipy_kdtree(bpl['logmp'])\n",
    "tree_mdpl2 = get_scipy_kdtree(mdpl2['logmp'])\n",
    "\n",
    "indx_bpl = retrieve_lh_sample_indices(tree_bpl, 11.35, 13.65, 1, 100_000)\n",
    "indx_mdpl2 = retrieve_lh_sample_indices(tree_mdpl2, 13.4, 14.6, 1, 100_000)"
   ]
  },
  {
   "cell_type": "code",
   "execution_count": 5,
   "id": "6628da2f",
   "metadata": {},
   "outputs": [],
   "source": [
    "from diffprof.get_target_simdata import target_data_generator\n",
    "\n",
    "N_MH_TARGETS, N_P_TARGETS = 1, 15\n",
    "\n",
    "args = (bpl['logmp'][indx_bpl],\n",
    "    mdpl2['logmp'][indx_mdpl2],\n",
    "    lgconc_history_bpl[indx_bpl],\n",
    "    lgconc_history_mdpl2[indx_mdpl2],\n",
    "    bpl['p_tform_50'][indx_bpl],\n",
    "    mdpl2['p_tform_50'][indx_mdpl2],\n",
    "    N_MH_TARGETS,\n",
    "    N_P_TARGETS,\n",
    "       )\n",
    "gen = target_data_generator(*args, lgmh_min=14.0, lgmh_max=14.25)"
   ]
  },
  {
   "cell_type": "code",
   "execution_count": 6,
   "id": "ca34bbe4",
   "metadata": {},
   "outputs": [
    {
     "data": {
      "text/plain": [
       "(1, 15, 25)"
      ]
     },
     "execution_count": 6,
     "metadata": {},
     "output_type": "execute_result"
    }
   ],
   "source": [
    "target_data = next(gen)\n",
    "lgmhalo_targets, p50_targets = target_data[0:2]\n",
    "target_avg_log_conc_lgm0, target_std_log_conc_lgm0 = target_data[2:4]\n",
    "target_avg_log_conc_p50_lgm0, target_std_log_conc_p50_lgm0 = target_data[4:]\n",
    "target_std_log_conc_p50_lgm0.shape"
   ]
  },
  {
   "cell_type": "code",
   "execution_count": 7,
   "id": "c6f61213",
   "metadata": {},
   "outputs": [],
   "source": [
    "# tarr = np.linspace(1, 13.8, 200)\n",
    "# p50_arr = np.array((0.1, 0.5, 0.9))\n",
    "# lgm0 = 14.0\n",
    "# zz = np.zeros_like(tarr)"
   ]
  },
  {
   "cell_type": "markdown",
   "id": "88d0fb64",
   "metadata": {},
   "source": [
    "### Call the target data model to compute $\\langle\\log_{10}c(t)\\vert M_0,p_{50\\%}\\rangle$"
   ]
  },
  {
   "cell_type": "code",
   "execution_count": 8,
   "id": "9bd217cc",
   "metadata": {},
   "outputs": [],
   "source": [
    "from diffprof import target_data_model as tdm\n",
    "\n",
    "# mean_lgc_old_tdm = tdm.approximate_lgconc_vs_lgm_p50(\n",
    "#     tarr, lgm0, p50_arr[0], *tdm.target_data_model_params_mean_lgconc.values())\n",
    "# mean_lgc_mid_tdm = tdm.approximate_lgconc_vs_lgm_p50(\n",
    "#     tarr, lgm0, p50_arr[1], *tdm.target_data_model_params_mean_lgconc.values())\n",
    "# mean_lgc_young_tdm = tdm.approximate_lgconc_vs_lgm_p50(\n",
    "#     tarr, lgm0, p50_arr[2], *tdm.target_data_model_params_mean_lgconc.values())\n",
    "\n",
    "_tdm_params = np.array(list(tdm.target_data_model_params_mean_lgconc.values()))\n",
    "im = 0\n",
    "x = [tdm.approximate_lgconc_vs_lgm_p50(TARR_FIT, lgmhalo_targets[im], p, *_tdm_params) for p in p50_targets]\n",
    "_s = (p50_targets.shape[0], TARR_FIT.shape[0])\n",
    "target_avg_log_conc_p50 = np.concatenate([*x]).reshape((_s))\n",
    "\n",
    "# assert np.allclose(target_avg_log_conc_p50[0, :], mean_lgc_old_tdm)\n",
    "# assert np.allclose(target_avg_log_conc_p50[1, :], mean_lgc_mid_tdm)\n",
    "# assert np.allclose(target_avg_log_conc_p50[2, :], mean_lgc_young_tdm)"
   ]
  },
  {
   "cell_type": "code",
   "execution_count": null,
   "id": "9554e925",
   "metadata": {},
   "outputs": [],
   "source": []
  },
  {
   "cell_type": "code",
   "execution_count": null,
   "id": "2d970e7f",
   "metadata": {},
   "outputs": [],
   "source": []
  },
  {
   "cell_type": "code",
   "execution_count": null,
   "id": "0ed3c01b",
   "metadata": {},
   "outputs": [],
   "source": []
  },
  {
   "cell_type": "code",
   "execution_count": null,
   "id": "f7b5cd49",
   "metadata": {},
   "outputs": [],
   "source": []
  },
  {
   "cell_type": "code",
   "execution_count": null,
   "id": "8ae140b6",
   "metadata": {},
   "outputs": [],
   "source": []
  },
  {
   "cell_type": "code",
   "execution_count": null,
   "id": "28de1ba3",
   "metadata": {},
   "outputs": [],
   "source": []
  },
  {
   "cell_type": "code",
   "execution_count": null,
   "id": "af174315",
   "metadata": {},
   "outputs": [],
   "source": []
  },
  {
   "cell_type": "markdown",
   "id": "378226eb",
   "metadata": {},
   "source": [
    "### Call the target data model to compute $\\sigma\\left(\\log_{10}c(t)\\vert M_0,p_{50\\%}\\right)$"
   ]
  },
  {
   "cell_type": "code",
   "execution_count": 9,
   "id": "ca806768",
   "metadata": {},
   "outputs": [],
   "source": [
    "target_std_lgc_lgm = tdm.approx_std_lgconc_vs_lgm(\n",
    "    TARR_FIT, lgmhalo_targets[im], *tdm.target_data_model_params_std_lgconc.values())\n",
    "\n",
    "_pars = list(tdm.target_data_model_params_std_lgconc_p50.values())\n",
    "target_std_log_conc_p50 = np.array(\n",
    "    [tdm._scatter_vs_p50_and_lgmhalo(lgmhalo_targets[im], p, *_pars) for p in p50_targets])"
   ]
  },
  {
   "cell_type": "code",
   "execution_count": null,
   "id": "a830c940",
   "metadata": {},
   "outputs": [],
   "source": []
  },
  {
   "cell_type": "code",
   "execution_count": null,
   "id": "a9a0e672",
   "metadata": {},
   "outputs": [],
   "source": []
  },
  {
   "cell_type": "code",
   "execution_count": null,
   "id": "c2767dc1",
   "metadata": {},
   "outputs": [],
   "source": []
  },
  {
   "cell_type": "code",
   "execution_count": 10,
   "id": "fcaae094",
   "metadata": {},
   "outputs": [],
   "source": [
    "from diffprof.dpp_loss_funcs import _mse_loss_singlemass\n",
    "from diffprof.bpl_dpp import DEFAULT_PARAMS"
   ]
  },
  {
   "cell_type": "code",
   "execution_count": null,
   "id": "a329c071",
   "metadata": {},
   "outputs": [],
   "source": []
  }
 ],
 "metadata": {
  "kernelspec": {
   "display_name": "Python 3 (ipykernel)",
   "language": "python",
   "name": "python3"
  },
  "language_info": {
   "codemirror_mode": {
    "name": "ipython",
    "version": 3
   },
   "file_extension": ".py",
   "mimetype": "text/x-python",
   "name": "python",
   "nbconvert_exporter": "python",
   "pygments_lexer": "ipython3",
   "version": "3.9.13"
  }
 },
 "nbformat": 4,
 "nbformat_minor": 5
}
