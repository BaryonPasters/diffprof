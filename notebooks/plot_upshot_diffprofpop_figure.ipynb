{
 "cells": [
  {
   "cell_type": "code",
   "execution_count": 1,
   "id": "978a8afb",
   "metadata": {},
   "outputs": [],
   "source": [
    "import matplotlib.cm as cm\n",
    "from time import time\n",
    "from matplotlib import lines as mlines\n",
    "import numpy as np\n",
    "from jax import random as jran\n",
    "\n",
    "ran_key = jran.PRNGKey(180)"
   ]
  },
  {
   "cell_type": "code",
   "execution_count": 2,
   "id": "b084a53f",
   "metadata": {},
   "outputs": [
    {
     "name": "stdout",
     "output_type": "stream",
     "text": [
      "['halo_id', 'conc_beta_early', 'conc_beta_late', 'conc_k', 'conc_lgtc', 'u_conc_beta_early', 'u_conc_beta_late', 'u_conc_k', 'u_conc_lgtc', 'logmp', 'mah_early', 'mah_late', 'mah_logtc', 'mah_k', 'log_mah_fit', 'conch_fit', 'tform_50', 'p_tform_50']\n"
     ]
    }
   ],
   "source": [
    "import os\n",
    "from astropy.table import Table\n",
    "diffprof_drn = \"/Users/aphearin/work/DATA/diffprof_data\"\n",
    "mdpl2 = Table.read(os.path.join(diffprof_drn, \"MDPL2_halo_table.hdf5\"))\n",
    "bpl = Table.read(os.path.join(diffprof_drn, \"BPL_halo_table.hdf5\"))\n",
    "print(bpl.keys())"
   ]
  },
  {
   "cell_type": "code",
   "execution_count": 3,
   "id": "8627db6a",
   "metadata": {},
   "outputs": [],
   "source": [
    "from diffprof.nfw_evolution import lgc_vs_lgt\n",
    "\n",
    "lgc_vs_lgt_vmap = jjit(jvmap(lgc_vs_lgt, in_axes=(None, 0, 0, 0, 0)))\n",
    "\n",
    "N_T = 25\n",
    "TARR_FIT = np.linspace(3.5, 13.8, N_T)\n",
    "\n",
    "lgconc_history_bpl = np.array(lgc_vs_lgt_vmap(\n",
    "    np.log10(TARR_FIT), bpl[\"conc_lgtc\"], bpl[\"conc_k\"], bpl[\"conc_beta_early\"], bpl[\"conc_beta_late\"]))\n",
    "lgconc_history_mdpl2 = np.array(lgc_vs_lgt_vmap(\n",
    "    np.log10(TARR_FIT), mdpl2[\"conc_lgtc\"], mdpl2[\"conc_k\"], mdpl2[\"conc_beta_early\"], mdpl2[\"conc_beta_late\"]))\n"
   ]
  },
  {
   "cell_type": "code",
   "execution_count": null,
   "id": "051be98b",
   "metadata": {},
   "outputs": [],
   "source": []
  },
  {
   "cell_type": "code",
   "execution_count": 12,
   "id": "9e330fd2",
   "metadata": {},
   "outputs": [],
   "source": [
    "from diffprof.get_target_simdata import calculate_halo_sample_target_data\n",
    "\n",
    "lgmhalo_targets = np.array((12.0, 13.0, 14.0))\n",
    "p50_targets = np.linspace(0.1, 0.9, 5)\n",
    "\n",
    "args = (bpl['logmp'], mdpl2['logmp'], lgconc_history_bpl, lgconc_history_mdpl2, \n",
    "       bpl['p_tform_50'], mdpl2['p_tform_50'], lgmhalo_targets, p50_targets)\n",
    "\n",
    "res = calculate_halo_sample_target_data(*args)\n",
    "lgc_mean_targets_lgm0, lgc_std_targets_lgm0 = res[:2]\n",
    "lgc_mean_targets_lgm0_p50, lgc_std_targets_lgm0_p50 = res[2:]"
   ]
  },
  {
   "cell_type": "code",
   "execution_count": null,
   "id": "a67a88dd",
   "metadata": {},
   "outputs": [],
   "source": []
  },
  {
   "cell_type": "code",
   "execution_count": null,
   "id": "e04af023",
   "metadata": {},
   "outputs": [],
   "source": []
  },
  {
   "cell_type": "code",
   "execution_count": null,
   "id": "fb0b93ff",
   "metadata": {},
   "outputs": [],
   "source": []
  },
  {
   "cell_type": "code",
   "execution_count": null,
   "id": "202e3ce4",
   "metadata": {},
   "outputs": [],
   "source": []
  },
  {
   "cell_type": "code",
   "execution_count": null,
   "id": "569dee16",
   "metadata": {},
   "outputs": [],
   "source": []
  }
 ],
 "metadata": {
  "kernelspec": {
   "display_name": "Python 3 (ipykernel)",
   "language": "python",
   "name": "python3"
  },
  "language_info": {
   "codemirror_mode": {
    "name": "ipython",
    "version": 3
   },
   "file_extension": ".py",
   "mimetype": "text/x-python",
   "name": "python",
   "nbconvert_exporter": "python",
   "pygments_lexer": "ipython3",
   "version": "3.9.13"
  }
 },
 "nbformat": 4,
 "nbformat_minor": 5
}
