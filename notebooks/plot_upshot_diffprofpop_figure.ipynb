{
 "cells": [
  {
   "cell_type": "code",
   "execution_count": 1,
   "id": "7e19b5fd",
   "metadata": {},
   "outputs": [],
   "source": [
    "import matplotlib.cm as cm\n",
    "from time import time\n",
    "from matplotlib import lines as mlines\n",
    "import numpy as np\n",
    "from jax import random as jran\n",
    "\n",
    "ran_key = jran.PRNGKey(180)"
   ]
  },
  {
   "cell_type": "code",
   "execution_count": 2,
   "id": "a07b3382",
   "metadata": {},
   "outputs": [
    {
     "name": "stdout",
     "output_type": "stream",
     "text": [
      "['halo_id', 'conc_beta_early', 'conc_beta_late', 'conc_k', 'conc_lgtc', 'u_conc_beta_early', 'u_conc_beta_late', 'u_conc_k', 'u_conc_lgtc', 'logmp', 'mah_early', 'mah_late', 'mah_logtc', 'mah_k', 'log_mah_fit', 'conch_fit', 'tform_50', 'p_tform_50']\n"
     ]
    }
   ],
   "source": [
    "import os\n",
    "from astropy.table import Table\n",
    "diffprof_drn = \"/Users/aphearin/work/DATA/diffprof_data\"\n",
    "mdpl2 = Table.read(os.path.join(diffprof_drn, \"MDPL2_halo_table.hdf5\"))\n",
    "bpl = Table.read(os.path.join(diffprof_drn, \"BPL_halo_table.hdf5\"))\n",
    "print(bpl.keys())"
   ]
  },
  {
   "cell_type": "code",
   "execution_count": 3,
   "id": "7f77cbc3",
   "metadata": {},
   "outputs": [],
   "source": [
    "from diffprof.nfw_evolution import lgc_vs_lgt\n",
    "\n",
    "lgc_vs_lgt_vmap = jjit(jvmap(lgc_vs_lgt, in_axes=(None, 0, 0, 0, 0)))\n",
    "\n",
    "N_T = 25\n",
    "TARR_FIT = np.linspace(3.5, 13.8, N_T)\n",
    "\n",
    "lgconc_history_bpl = np.array(lgc_vs_lgt_vmap(\n",
    "    np.log10(TARR_FIT), bpl[\"conc_lgtc\"], bpl[\"conc_k\"], bpl[\"conc_beta_early\"], bpl[\"conc_beta_late\"]))\n",
    "lgconc_history_mdpl2 = np.array(lgc_vs_lgt_vmap(\n",
    "    np.log10(TARR_FIT), mdpl2[\"conc_lgtc\"], mdpl2[\"conc_k\"], mdpl2[\"conc_beta_early\"], mdpl2[\"conc_beta_late\"]))\n"
   ]
  },
  {
   "cell_type": "code",
   "execution_count": null,
   "id": "94edcc8d",
   "metadata": {},
   "outputs": [],
   "source": []
  },
  {
   "cell_type": "code",
   "execution_count": 12,
   "id": "d7b843c8",
   "metadata": {},
   "outputs": [],
   "source": [
    "from diffprof.get_target_simdata import calculate_halo_sample_target_data\n",
    "\n",
    "lgmhalo_targets = np.array((12.0, 13.0, 14.0))\n",
    "p50_targets = np.linspace(0.1, 0.9, 5)\n",
    "\n",
    "args = (bpl['logmp'], mdpl2['logmp'], lgconc_history_bpl, lgconc_history_mdpl2, \n",
    "       bpl['p_tform_50'], mdpl2['p_tform_50'], lgmhalo_targets, p50_targets)\n",
    "\n",
    "res = calculate_halo_sample_target_data(*args)\n",
    "lgc_mean_targets_lgm0, lgc_std_targets_lgm0 = res[:2]\n",
    "lgc_mean_targets_lgm0_p50, lgc_std_targets_lgm0_p50 = res[2:]"
   ]
  },
  {
   "cell_type": "code",
   "execution_count": null,
   "id": "36e24d94",
   "metadata": {},
   "outputs": [],
   "source": []
  },
  {
   "cell_type": "code",
   "execution_count": 13,
   "id": "bfcae8f8",
   "metadata": {},
   "outputs": [],
   "source": [
    "from diffprof.dpp_predictions import _get_preds_singlemass\n",
    "from diffprof.dpp_loss_funcs import _get_grid_data\n",
    "from diffprof.dpp_opt import get_u_param_grids\n",
    "from diffprof.bpl_dpp import DEFAULT_PARAMS\n",
    "\n",
    "n_grid = 2500\n",
    "grid_key, ran_key = jran.split(ran_key, 2)\n",
    "u_be_grid, u_lgtc_bl_grid = get_u_param_grids(grid_key, n_grid)\n",
    "\n",
    "grid_data = _get_grid_data(p50_targets, TARR_FIT, u_be_grid, u_lgtc_bl_grid)"
   ]
  },
  {
   "cell_type": "code",
   "execution_count": 14,
   "id": "3eba5fa5",
   "metadata": {},
   "outputs": [],
   "source": [
    "dpp_params = np.array(list(DEFAULT_PARAMS.values()))"
   ]
  },
  {
   "cell_type": "code",
   "execution_count": 18,
   "id": "55f97a7d",
   "metadata": {},
   "outputs": [],
   "source": [
    "from jax import vmap\n",
    "_m = (None, 0, *[None]*4)\n",
    "_get_preds_multimass = jjit(vmap(_get_preds_singlemass, in_axes=_m))\n",
    "_preds = _get_preds_multimass(dpp_params, lgmhalo_targets, TARR_FIT, p50_targets, u_be_grid, u_lgtc_bl_grid)\n",
    "pred_avg_log_conc_p50, pred_avg_log_conc_lgm0, pred_std_log_conc_lgm0, pred_std_log_conc_p50 = _preds\n"
   ]
  },
  {
   "cell_type": "code",
   "execution_count": 33,
   "id": "431e1fb0",
   "metadata": {},
   "outputs": [
    {
     "data": {
      "image/png": "[encoded data removed]",
      "text/plain": [
       "<Figure size 432x288 with 1 Axes>"
      ]
     },
     "metadata": {},
     "output_type": "display_data"
    }
   ],
   "source": [
    "fig, ax = plt.subplots(1, 1)\n",
    "ylim = ax.set_ylim(2, 10)\n",
    "\n",
    "im = 2\n",
    "__=ax.plot(TARR_FIT, 10**lgc_mean_targets_lgm0[im, :], color='k')\n",
    "__=ax.plot(TARR_FIT, 10**pred_avg_log_conc_lgm0[im, :], '--', color='k')\n",
    "\n",
    "lgylo = lgc_mean_targets_lgm0[im, :] - lgc_std_targets_lgm0[im, :]\n",
    "lgyhi = lgc_mean_targets_lgm0[im, :] + lgc_std_targets_lgm0[im, :]\n",
    "__=ax.fill_between(TARR_FIT, 10**lgylo, 10**lgyhi, color='lightgray', alpha=0.7)\n",
    "\n",
    "lgylo = pred_avg_log_conc_lgm0[im, :] - pred_std_log_conc_lgm0[im, :]\n",
    "lgyhi = pred_avg_log_conc_lgm0[im, :] + pred_std_log_conc_lgm0[im, :]\n",
    "__=ax.plot(TARR_FIT, 10**lgylo, '--', color='k')\n",
    "__=ax.plot(TARR_FIT, 10**lgyhi, '--', color='k')\n"
   ]
  },
  {
   "cell_type": "code",
   "execution_count": 29,
   "id": "37453f4c",
   "metadata": {},
   "outputs": [
    {
     "data": {
      "text/plain": [
       "(3, 25)"
      ]
     },
     "execution_count": 29,
     "metadata": {},
     "output_type": "execute_result"
    }
   ],
   "source": [
    "lgc_std_targets_lgm0.shape"
   ]
  },
  {
   "cell_type": "code",
   "execution_count": null,
   "id": "78823c04",
   "metadata": {},
   "outputs": [],
   "source": []
  },
  {
   "cell_type": "code",
   "execution_count": null,
   "id": "e699b894",
   "metadata": {},
   "outputs": [],
   "source": []
  }
 ],
 "metadata": {
  "kernelspec": {
   "display_name": "Python 3 (ipykernel)",
   "language": "python",
   "name": "python3"
  },
  "language_info": {
   "codemirror_mode": {
    "name": "ipython",
    "version": 3
   },
   "file_extension": ".py",
   "mimetype": "text/x-python",
   "name": "python",
   "nbconvert_exporter": "python",
   "pygments_lexer": "ipython3",
   "version": "3.9.13"
  }
 },
 "nbformat": 4,
 "nbformat_minor": 5
}
