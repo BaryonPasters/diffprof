{
 "cells": [
  {
   "cell_type": "markdown",
   "id": "8fc2f4c4",
   "metadata": {},
   "source": [
    "# Demo Monte Carlo Halo Population\n",
    "\n",
    "This notebook demonstrates how to use DiffprofPop to generate a Monte Carlo realization of the halo population. \n",
    "\n",
    "The way this calculation is intended to work is that first we calculate $\\langle\\log_{10}c(t)\\vert M_0,p_{50\\%}\\rangle$ using differentiable methods, then we calculate a Monte Carlo realization of the halo population and calculate this average manually, and they should agree. However, in the current code they do not. I am not sure whether the bug is in the Diffprof library, or if I am simply incorrectly calling our functions. Either way, this is a bug we need to resolve before publishing.\n",
    "\n",
    "I have written a unit test in the `test_mc_diffprofpop.py` module that fails due to this issue. So either that unit test is incorrectly written, or the source code needs to be modified. That unit test is based directly on this notebook."
   ]
  },
  {
   "cell_type": "code",
   "execution_count": 1,
   "id": "5f5fe096",
   "metadata": {},
   "outputs": [],
   "source": [
    "from jax import random as jran\n",
    "ran_key = jran.PRNGKey(0)"
   ]
  },
  {
   "cell_type": "code",
   "execution_count": 2,
   "id": "3ed78c50",
   "metadata": {},
   "outputs": [],
   "source": [
    "tarr = np.linspace(1, 13.8, 30)\n",
    "lgtarr = np.log10(tarr)\n",
    "n_p = 100\n",
    "p50_arr = np.linspace(0.1, 0.9, n_p)\n",
    "lgm0 = 12\n",
    "zz = np.zeros_like(tarr)"
   ]
  },
  {
   "cell_type": "code",
   "execution_count": 3,
   "id": "fbd36a16",
   "metadata": {},
   "outputs": [],
   "source": [
    "from diffprof.diffprofpop import get_singlemass_params_p50\n",
    "from diffprof.dpp_predictions import get_predictions_from_singlemass_params_p50\n",
    "from diffprof.dpp_opt import get_u_param_grids\n",
    "\n",
    "ran_key, dpp_preds_key = jran.split(ran_key, 2)\n",
    "\n",
    "singlemass_dpp_params = get_singlemass_params_p50(lgm0)\n",
    "u_param_grids = get_u_param_grids(ran_key, 30_000)\n",
    "\n",
    "u_be_grid, u_lgtc_bl_grid = u_param_grids\n",
    "args = (singlemass_dpp_params, tarr, p50_arr, u_be_grid, u_lgtc_bl_grid)\n",
    "dpp_preds = get_predictions_from_singlemass_params_p50(*args)\n",
    "avg_log_conc_p50_dpp, avg_log_conc_lgm0_dpp = dpp_preds[:2]\n",
    "std_log_conc_lgm0_dpp, std_log_conc_p50_dpp = dpp_preds[2:]"
   ]
  },
  {
   "cell_type": "code",
   "execution_count": 4,
   "id": "fc4d4d92",
   "metadata": {},
   "outputs": [
    {
     "data": {
      "text/plain": [
       "(100, 30)"
      ]
     },
     "execution_count": 4,
     "metadata": {},
     "output_type": "execute_result"
    }
   ],
   "source": [
    "avg_log_conc_p50_dpp.shape"
   ]
  },
  {
   "cell_type": "code",
   "execution_count": 5,
   "id": "60594ff4",
   "metadata": {},
   "outputs": [],
   "source": [
    "from diffprof.mc_diffprofpop import mc_halo_population_singlemass\n",
    "\n",
    "ran_key, mc_dpp_key = jran.split(ran_key, 2)\n",
    "\n",
    "n_sample_per_p = 500\n",
    "zz = np.zeros(n_sample_per_p)\n",
    "p50_early = p50_arr[0]+zz\n",
    "p50_late = p50_arr[-1]+zz\n",
    "\n",
    "lgc_sample_early = mc_halo_population_singlemass(ran_key, tarr, p50_arr[0]+zz, singlemass_dpp_params)\n",
    "lgc_sample_late = mc_halo_population_singlemass(ran_key, tarr, p50_arr[-1]+zz, singlemass_dpp_params)"
   ]
  },
  {
   "cell_type": "code",
   "execution_count": 8,
   "id": "438c7502",
   "metadata": {},
   "outputs": [
    {
     "data": {
      "image/png": "[encoded data removed]",
      "text/plain": [
       "<Figure size 432x288 with 1 Axes>"
      ]
     },
     "metadata": {},
     "output_type": "display_data"
    }
   ],
   "source": [
    "fig, ax = plt.subplots(1, 1)\n",
    "ylim = ax.set_ylim(2, 36)\n",
    "\n",
    "__=ax.plot(tarr, 10**avg_log_conc_p50_dpp[0, :], color=mred, label=r'${\\rm old\\ halos}$')\n",
    "__=ax.plot(tarr, 10**avg_log_conc_p50_dpp[-1, :], color=mblue, label=r'${\\rm young\\ halos}$')\n",
    "__=ax.plot(tarr, 10**avg_log_conc_p50_dpp[-1, :], color=mblue, label=r'${\\rm differentiable\\ prediction}$')\n",
    "\n",
    "avg_lgc_sample_early = np.mean(lgc_sample_early, axis=0)\n",
    "avg_lgc_sample_late = np.mean(lgc_sample_late, axis=0)\n",
    "__=ax.plot(tarr, 10**avg_lgc_sample_early, '--', color=mred)\n",
    "__=ax.plot(tarr, 10**avg_lgc_sample_late, '--', color=mblue, label=r'${\\rm Monte\\ Carlo\\ prediction}$')\n",
    "\n",
    "leg = ax.legend()\n",
    "leg.legendHandles[2].set_color('gray')\n",
    "leg.legendHandles[3].set_color('gray')\n",
    "xlabel = ax.set_xlabel(r'${\\rm cosmic\\ time\\ [Gyr]}$')\n",
    "ylabel = ax.set_ylabel(r'$\\langle c(t)\\ \\vert\\ M_0\\rangle$')\n",
    "title = ax.set_title(r'$M_{\\rm halo}=10^{14}M_{\\odot}$')"
   ]
  },
  {
   "cell_type": "code",
   "execution_count": 7,
   "id": "73fbedb6",
   "metadata": {},
   "outputs": [
    {
     "data": {
      "text/plain": [
       "(500, 30)"
      ]
     },
     "execution_count": 7,
     "metadata": {},
     "output_type": "execute_result"
    }
   ],
   "source": [
    "lgc_sample_early.shape"
   ]
  },
  {
   "cell_type": "code",
   "execution_count": null,
   "id": "e16f734f",
   "metadata": {},
   "outputs": [],
   "source": []
  },
  {
   "cell_type": "code",
   "execution_count": null,
   "id": "2a63e1ff",
   "metadata": {},
   "outputs": [],
   "source": []
  }
 ],
 "metadata": {
  "kernelspec": {
   "display_name": "Python 3 (ipykernel)",
   "language": "python",
   "name": "python3"
  },
  "language_info": {
   "codemirror_mode": {
    "name": "ipython",
    "version": 3
   },
   "file_extension": ".py",
   "mimetype": "text/x-python",
   "name": "python",
   "nbconvert_exporter": "python",
   "pygments_lexer": "ipython3",
   "version": "3.9.13"
  }
 },
 "nbformat": 4,
 "nbformat_minor": 5
}
