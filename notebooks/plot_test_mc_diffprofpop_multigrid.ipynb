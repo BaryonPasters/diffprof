{
 "cells": [
  {
   "cell_type": "code",
   "execution_count": 1,
   "id": "ed2c693a",
   "metadata": {},
   "outputs": [],
   "source": [
    "from jax import random as jran\n",
    "ran_key = jran.PRNGKey(0)"
   ]
  },
  {
   "cell_type": "code",
   "execution_count": 2,
   "id": "69e08332",
   "metadata": {},
   "outputs": [],
   "source": [
    "from diffprof.diffprofpop import get_singlemass_params_p50\n",
    "from diffprof.dpp_predictions import get_predictions_from_singlemass_params_p50\n",
    "from diffprof.dpp_opt import get_u_param_grids"
   ]
  },
  {
   "cell_type": "code",
   "execution_count": 4,
   "id": "75289aa3",
   "metadata": {},
   "outputs": [],
   "source": [
    "n_t = 30\n",
    "tarr = np.linspace(1, 13.8, n_t)\n",
    "\n",
    "lgm0 = 13.0\n",
    "singlemass_dpp_params = get_singlemass_params_p50(lgm0)"
   ]
  },
  {
   "cell_type": "code",
   "execution_count": 13,
   "id": "e19ea691",
   "metadata": {},
   "outputs": [
    {
     "data": {
      "text/plain": [
       "(50, 30)"
      ]
     },
     "execution_count": 13,
     "metadata": {},
     "output_type": "execute_result"
    }
   ],
   "source": [
    "p50_arr = np.linspace(0, 1, 50)\n",
    "u_param_grids = get_u_param_grids(ran_key, 30_000)\n",
    "u_be_grid, u_lgtc_bl_grid = u_param_grids\n",
    "args = (singlemass_dpp_params, tarr, p50_arr, u_be_grid, u_lgtc_bl_grid)\n",
    "dpp_preds = get_predictions_from_singlemass_params_p50(*args)\n",
    "avg_log_conc_p50_dpp = dpp_preds[0]\n",
    "avg_log_conc_p50_dpp.shape"
   ]
  },
  {
   "cell_type": "code",
   "execution_count": null,
   "id": "09869a58",
   "metadata": {},
   "outputs": [],
   "source": []
  },
  {
   "cell_type": "code",
   "execution_count": 9,
   "id": "c1d1d1b3",
   "metadata": {},
   "outputs": [],
   "source": [
    "n_p = 400\n",
    "\n",
    "p50 = 0.5\n",
    "ip = np.searchsorted(p50_arr, p50)\n",
    "p50 = p50_arr[ip]\n",
    "\n",
    "p50_sample = np.zeros(n_p) + p50\n"
   ]
  },
  {
   "cell_type": "code",
   "execution_count": 11,
   "id": "a98b2b16",
   "metadata": {},
   "outputs": [],
   "source": [
    "from diffprof.mc_diffprofpop import mc_halo_population_singlemass\n",
    "\n",
    "lgc_sample = mc_halo_population_singlemass(\n",
    "    ran_key, tarr, p50_sample, singlemass_dpp_params\n",
    ")\n",
    "avg_log_conc_p50_mc = np.mean(lgc_sample, axis=0)\n"
   ]
  },
  {
   "cell_type": "code",
   "execution_count": 18,
   "id": "165340c6",
   "metadata": {},
   "outputs": [
    {
     "data": {
      "image/png": "[encoded data removed]",
      "text/plain": [
       "<Figure size 432x288 with 1 Axes>"
      ]
     },
     "metadata": {},
     "output_type": "display_data"
    }
   ],
   "source": [
    "fig, ax = plt.subplots(1, 1)\n",
    "\n",
    "__=ax.plot(tarr, 10**avg_log_conc_p50_mc)\n",
    "__=ax.plot(tarr, 10**avg_log_conc_p50_dpp[ip, :], '--')\n"
   ]
  },
  {
   "cell_type": "code",
   "execution_count": 17,
   "id": "c20855f2",
   "metadata": {},
   "outputs": [
    {
     "data": {
      "text/plain": [
       "DeviceArray(1.0143707, dtype=float32)"
      ]
     },
     "execution_count": 17,
     "metadata": {},
     "output_type": "execute_result"
    }
   ],
   "source": [
    "np.max(avg_log_conc_p50_dpp[ip, :]/avg_log_conc_p50_mc)"
   ]
  },
  {
   "cell_type": "code",
   "execution_count": null,
   "id": "ee229b3e",
   "metadata": {},
   "outputs": [],
   "source": []
  },
  {
   "cell_type": "code",
   "execution_count": null,
   "id": "be7ce26d",
   "metadata": {},
   "outputs": [],
   "source": []
  }
 ],
 "metadata": {
  "kernelspec": {
   "display_name": "Python 3 (ipykernel)",
   "language": "python",
   "name": "python3"
  },
  "language_info": {
   "codemirror_mode": {
    "name": "ipython",
    "version": 3
   },
   "file_extension": ".py",
   "mimetype": "text/x-python",
   "name": "python",
   "nbconvert_exporter": "python",
   "pygments_lexer": "ipython3",
   "version": "3.9.13"
  }
 },
 "nbformat": 4,
 "nbformat_minor": 5
}
