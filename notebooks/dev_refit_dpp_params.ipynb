{
 "cells": [
  {
   "cell_type": "code",
   "execution_count": 1,
   "id": "a679e481",
   "metadata": {},
   "outputs": [],
   "source": [
    "import matplotlib.cm as cm\n",
    "from time import time\n",
    "from matplotlib import lines as mlines\n",
    "import numpy as np\n",
    "from jax import random as jran\n",
    "\n",
    "ran_key = jran.PRNGKey(180)"
   ]
  },
  {
   "cell_type": "markdown",
   "id": "f32925b1",
   "metadata": {},
   "source": [
    "## Load simulation data with diffprof fits"
   ]
  },
  {
   "cell_type": "code",
   "execution_count": 2,
   "id": "32bc462a",
   "metadata": {},
   "outputs": [
    {
     "name": "stdout",
     "output_type": "stream",
     "text": [
      "['halo_id', 'conc_beta_early', 'conc_beta_late', 'conc_k', 'conc_lgtc', 'u_conc_beta_early', 'u_conc_beta_late', 'u_conc_k', 'u_conc_lgtc', 'logmp', 'mah_early', 'mah_late', 'mah_logtc', 'mah_k', 'log_mah_fit', 'conch_fit', 'tform_50', 'p_tform_50']\n"
     ]
    }
   ],
   "source": [
    "import os\n",
    "from astropy.table import Table\n",
    "diffprof_drn = \"/Users/aphearin/work/DATA/diffprof_data\"\n",
    "mdpl2 = Table.read(os.path.join(diffprof_drn, \"MDPL2_halo_table.hdf5\"))\n",
    "bpl = Table.read(os.path.join(diffprof_drn, \"BPL_halo_table.hdf5\"))\n",
    "print(bpl.keys())"
   ]
  },
  {
   "cell_type": "markdown",
   "id": "1b297a0e",
   "metadata": {},
   "source": [
    "## Calculate dpp approximations for $c(t)$ for every halo"
   ]
  },
  {
   "cell_type": "code",
   "execution_count": 3,
   "id": "41012da5",
   "metadata": {},
   "outputs": [],
   "source": [
    "from diffprof.nfw_evolution import lgc_vs_lgt\n",
    "\n",
    "lgc_vs_lgt_vmap = jjit(jvmap(lgc_vs_lgt, in_axes=(None, 0, 0, 0, 0)))\n",
    "\n",
    "N_T = 25\n",
    "TARR_FIT = np.linspace(3.5, 13.8, N_T)\n",
    "\n",
    "lgconc_history_bpl = np.array(lgc_vs_lgt_vmap(\n",
    "    np.log10(TARR_FIT), bpl[\"conc_lgtc\"], bpl[\"conc_k\"], bpl[\"conc_beta_early\"], bpl[\"conc_beta_late\"]))\n",
    "lgconc_history_mdpl2 = np.array(lgc_vs_lgt_vmap(\n",
    "    np.log10(TARR_FIT), mdpl2[\"conc_lgtc\"], mdpl2[\"conc_k\"], mdpl2[\"conc_beta_early\"], mdpl2[\"conc_beta_late\"]))\n"
   ]
  },
  {
   "cell_type": "markdown",
   "id": "1868cfa0",
   "metadata": {},
   "source": [
    "## Measure sumstats of $c(t)$ for simulated halo samples"
   ]
  },
  {
   "cell_type": "markdown",
   "id": "cd0a1404",
   "metadata": {},
   "source": [
    "### Use pseudo-random subsamples of halos for target data"
   ]
  },
  {
   "cell_type": "code",
   "execution_count": 4,
   "id": "1a9ae6d5",
   "metadata": {},
   "outputs": [],
   "source": [
    "# from diffprof.latin_hypercube import get_scipy_kdtree, retrieve_lh_sample_indices\n",
    "# tree_bpl = get_scipy_kdtree(bpl['logmp'])\n",
    "# tree_mdpl2 = get_scipy_kdtree(mdpl2['logmp'])\n",
    "\n",
    "# indx_bpl = retrieve_lh_sample_indices(tree_bpl, 11.85, 13.4, 1, 100_000)\n",
    "# indx_mdpl2 = retrieve_lh_sample_indices(tree_mdpl2, 13.4, 14.2, 1, 100_000)\n",
    "\n",
    "# from diffprof.get_target_simdata import target_data_generator\n",
    "\n",
    "# N_MH_TARGETS, N_P_TARGETS = 10, 10\n",
    "\n",
    "# args = (bpl['logmp'][indx_bpl],\n",
    "#     mdpl2['logmp'][indx_mdpl2],\n",
    "#     lgconc_history_bpl[indx_bpl],\n",
    "#     lgconc_history_mdpl2[indx_mdpl2],\n",
    "#     bpl['p_tform_50'][indx_bpl],\n",
    "#     mdpl2['p_tform_50'][indx_mdpl2],\n",
    "#     N_MH_TARGETS,\n",
    "#     N_P_TARGETS,\n",
    "#        )\n",
    "# gen = target_data_generator(*args, lgmh_min=12.0, lgmh_max=14.1, p50_min=0.1, p50_max=0.9)\n",
    "\n",
    "# target_data = next(gen)\n",
    "# lgmhalo_targets, p50_targets = target_data[0:2]\n",
    "# target_avg_log_conc_lgm0, target_std_log_conc_lgm0 = target_data[2:4]\n",
    "# target_avg_log_conc_p50_lgm0, _target_std_log_conc_p50_lgm0 = target_data[4:]"
   ]
  },
  {
   "cell_type": "markdown",
   "id": "19ea10f5",
   "metadata": {},
   "source": [
    "### Alternatively use manually-declared halo samples"
   ]
  },
  {
   "cell_type": "code",
   "execution_count": 23,
   "id": "e4e4dcfa",
   "metadata": {},
   "outputs": [],
   "source": [
    "from diffprof.latin_hypercube import get_scipy_kdtree, retrieve_lh_sample_indices\n",
    "tree_bpl = get_scipy_kdtree(bpl['logmp'])\n",
    "tree_mdpl2 = get_scipy_kdtree(mdpl2['logmp'])\n",
    "\n",
    "indx_bpl = retrieve_lh_sample_indices(tree_bpl, 11.85, 13.4, 1, 100_000)\n",
    "indx_mdpl2 = retrieve_lh_sample_indices(tree_mdpl2, 13.4, 14.2, 1, 100_000)\n",
    "\n",
    "from diffprof.get_target_simdata import calculate_halo_sample_target_data\n",
    "\n",
    "lgmhalo_targets = np.array((12.0, 13.0, 14.0))\n",
    "p50_targets = np.linspace(0.1, 0.9, 20)\n",
    "\n",
    "args = (bpl['logmp'][indx_bpl], mdpl2['logmp'][indx_mdpl2], \n",
    "        lgconc_history_bpl[indx_bpl], lgconc_history_mdpl2[indx_mdpl2], \n",
    "       bpl['p_tform_50'][indx_bpl], mdpl2['p_tform_50'][indx_mdpl2], \n",
    "        lgmhalo_targets, p50_targets)\n",
    "args = (bpl['logmp'], mdpl2['logmp'], \n",
    "        lgconc_history_bpl, lgconc_history_mdpl2, \n",
    "       bpl['p_tform_50'], mdpl2['p_tform_50'], \n",
    "        lgmhalo_targets, p50_targets)\n",
    "\n",
    "res = calculate_halo_sample_target_data(*args)\n",
    "target_sim_avg_log_conc_lgm0, target_sim_std_log_conc_lgm0 = res[:2]\n",
    "target_sim_avg_log_conc_p50_lgm0, _target_sim_std_log_conc_p50_lgm0 = res[2:]"
   ]
  },
  {
   "cell_type": "markdown",
   "id": "36e5503b",
   "metadata": {},
   "source": [
    "## Use target data model"
   ]
  },
  {
   "cell_type": "code",
   "execution_count": 24,
   "id": "c0f0ff79",
   "metadata": {},
   "outputs": [],
   "source": [
    "lgmhalo_targets = np.array((12.0, 13.0, 14.0))\n",
    "p50_targets = np.linspace(0.1, 0.9, 20)\n",
    "\n",
    "N_MH_TARGETS, N_P_TARGETS = lgmhalo_targets.size, p50_targets.size"
   ]
  },
  {
   "cell_type": "code",
   "execution_count": 25,
   "id": "78c879ef",
   "metadata": {},
   "outputs": [],
   "source": [
    "from diffprof import target_data_model as tdm"
   ]
  },
  {
   "cell_type": "markdown",
   "id": "9ad538ac",
   "metadata": {},
   "source": [
    "### Generate target data for $\\sigma(c(t)\\vert M_{\\rm malo})$"
   ]
  },
  {
   "cell_type": "code",
   "execution_count": 26,
   "id": "ef2d2f6d",
   "metadata": {},
   "outputs": [],
   "source": [
    "std_lgc_lgm12 = tdm.approx_std_lgconc_vs_lgm(TARR_FIT, 12, *tdm.target_data_model_params_std_lgconc.values())\n",
    "std_lgc_lgm13 = tdm.approx_std_lgconc_vs_lgm(TARR_FIT, 13, *tdm.target_data_model_params_std_lgconc.values())\n",
    "std_lgc_lgm14 = tdm.approx_std_lgconc_vs_lgm(TARR_FIT, 14, *tdm.target_data_model_params_std_lgconc.values())\n",
    "\n",
    "target_std_log_conc_lgm0 = np.concatenate(\n",
    "    [tdm.approx_std_lgconc_vs_lgm(TARR_FIT, lgm, *tdm.target_data_model_params_std_lgconc.values()) \n",
    "    for lgm in lgmhalo_targets]).reshape((N_MH_TARGETS, N_T))"
   ]
  },
  {
   "cell_type": "markdown",
   "id": "1adab86c",
   "metadata": {},
   "source": [
    "### Generate target data for $\\langle c(t)\\vert M_{\\rm malo}\\rangle$"
   ]
  },
  {
   "cell_type": "code",
   "execution_count": 27,
   "id": "87889330",
   "metadata": {},
   "outputs": [],
   "source": [
    "pars = list(tdm.target_data_model_params_mean_lgconc.values())\n",
    "\n",
    "target_avg_log_conc_lgm0 = np.zeros((N_MH_TARGETS, N_T))\n",
    "for im, lgm in enumerate(lgmhalo_targets):\n",
    "    mean_lgc_lgm = np.mean(np.array(\n",
    "        [tdm.approximate_lgconc_vs_lgm_p50(TARR_FIT, lgm, p, *pars) for p in p50_targets]), axis=0)\n",
    "    target_avg_log_conc_lgm0[im, :] = mean_lgc_lgm"
   ]
  },
  {
   "cell_type": "markdown",
   "id": "3f3a56d8",
   "metadata": {},
   "source": [
    "### Generate target data for $\\langle c(t)\\vert M_{\\rm malo}, p_{50\\%}\\rangle$"
   ]
  },
  {
   "cell_type": "code",
   "execution_count": 28,
   "id": "41b8f40c",
   "metadata": {},
   "outputs": [],
   "source": [
    "target_avg_log_conc_p50_lgm0 = np.zeros((N_MH_TARGETS, N_P_TARGETS, N_T))\n",
    "\n",
    "for im, lgm in enumerate(lgmhalo_targets):\n",
    "    mean_lgc_lgm_p50 = np.array(\n",
    "        [tdm.approximate_lgconc_vs_lgm_p50(TARR_FIT, lgm, p, *pars) for p in p50_targets])\n",
    "    target_avg_log_conc_p50_lgm0[im, :, :] = mean_lgc_lgm_p50"
   ]
  },
  {
   "cell_type": "code",
   "execution_count": null,
   "id": "1c58579d",
   "metadata": {},
   "outputs": [],
   "source": []
  },
  {
   "cell_type": "markdown",
   "id": "371f3dbb",
   "metadata": {},
   "source": [
    "## Generate predictions of best-fitting model"
   ]
  },
  {
   "cell_type": "code",
   "execution_count": 29,
   "id": "be9b8e28",
   "metadata": {},
   "outputs": [],
   "source": [
    "from dev_new_loss import _get_grid_data\n",
    "from diffprof.dpp_opt import get_u_param_grids\n",
    "\n",
    "n_grid = 2500\n",
    "grid_key, ran_key = jran.split(ran_key, 2)\n",
    "u_be_grid, u_lgtc_bl_grid = get_u_param_grids(grid_key, n_grid)\n",
    "\n",
    "grid_data = _get_grid_data(p50_targets, TARR_FIT, u_be_grid, u_lgtc_bl_grid)"
   ]
  },
  {
   "cell_type": "code",
   "execution_count": null,
   "id": "eaa709ed",
   "metadata": {},
   "outputs": [],
   "source": []
  },
  {
   "cell_type": "code",
   "execution_count": 30,
   "id": "4da23ab1",
   "metadata": {},
   "outputs": [],
   "source": [
    "from diffprof.bpl_dpp import DEFAULT_PARAMS\n",
    "dpp_params = np.array(list(DEFAULT_PARAMS.values()))\n",
    "dpp_params = np.load(\"new_p_best.npy\")"
   ]
  },
  {
   "cell_type": "code",
   "execution_count": 31,
   "id": "027df567",
   "metadata": {},
   "outputs": [
    {
     "data": {
      "text/plain": [
       "DeviceArray(0.00150635, dtype=float32)"
      ]
     },
     "execution_count": 31,
     "metadata": {},
     "output_type": "execute_result"
    }
   ],
   "source": [
    "from dev_new_loss import _mse_loss_multimass\n",
    "\n",
    "_mse_loss_multimass(\n",
    "    dpp_params, grid_data, lgmhalo_targets, \n",
    "    target_avg_log_conc_p50_lgm0, target_avg_log_conc_lgm0, target_std_log_conc_lgm0)"
   ]
  },
  {
   "cell_type": "code",
   "execution_count": 32,
   "id": "76d9cc80",
   "metadata": {},
   "outputs": [
    {
     "name": "stdout",
     "output_type": "stream",
     "text": [
      "initial log10(loss) = -2.822\n"
     ]
    }
   ],
   "source": [
    "from diffprof.fitting_helpers.utils import jax_adam_wrapper\n",
    "from dev_new_loss import _global_loss_func\n",
    "\n",
    "global_loss_data = (grid_data, lgmhalo_targets, target_avg_log_conc_p50_lgm0,\n",
    "                    target_avg_log_conc_lgm0, target_std_log_conc_lgm0)\n",
    "\n",
    "\n",
    "loss = _global_loss_func(dpp_params, global_loss_data)\n",
    "print(\"initial log10(loss) = {:.3f}\".format(np.log10(loss)))\n",
    "\n",
    "from jax import value_and_grad\n",
    "_global_loss_func_and_grad = value_and_grad(_global_loss_func, argnums=0)\n",
    "loss_and_grads = _global_loss_func_and_grad(dpp_params, global_loss_data)"
   ]
  },
  {
   "cell_type": "code",
   "execution_count": null,
   "id": "15550af6",
   "metadata": {},
   "outputs": [],
   "source": []
  },
  {
   "cell_type": "markdown",
   "id": "e55eaec2",
   "metadata": {},
   "source": [
    "## Reoptimize parameters"
   ]
  },
  {
   "cell_type": "code",
   "execution_count": 33,
   "id": "3dd67b44",
   "metadata": {},
   "outputs": [],
   "source": [
    "n_steps = 150\n",
    "_res = jax_adam_wrapper(_global_loss_func, dpp_params, global_loss_data, n_steps, n_warmup=1)\n",
    "p_best, loss, loss_history = _res[:3]"
   ]
  },
  {
   "cell_type": "code",
   "execution_count": 34,
   "id": "6c71a7c9",
   "metadata": {},
   "outputs": [
    {
     "data": {
      "image/png": "[encoded data removed]",
      "text/plain": [
       "<Figure size 432x288 with 1 Axes>"
      ]
     },
     "metadata": {},
     "output_type": "display_data"
    }
   ],
   "source": [
    "fig, ax = plt.subplots(1, 1)\n",
    "__=ax.plot(np.log10(loss_history))"
   ]
  },
  {
   "cell_type": "code",
   "execution_count": 35,
   "id": "e02c9a77",
   "metadata": {},
   "outputs": [],
   "source": [
    "np.save('new_p_best', p_best)"
   ]
  },
  {
   "cell_type": "code",
   "execution_count": null,
   "id": "acf7623a",
   "metadata": {},
   "outputs": [],
   "source": []
  },
  {
   "cell_type": "code",
   "execution_count": 36,
   "id": "47724366",
   "metadata": {},
   "outputs": [],
   "source": [
    "from diffprof.dpp_predictions import _get_preds_singlemass\n",
    "from jax import vmap\n",
    "\n",
    "_m = (None, 0, *[None]*4)\n",
    "_get_preds_multimass = jjit(vmap(_get_preds_singlemass, in_axes=_m))\n",
    "\n",
    "_preds = _get_preds_multimass(p_best, lgmhalo_targets, TARR_FIT, p50_targets, u_be_grid, u_lgtc_bl_grid)\n",
    "pred_avg_log_conc_p50, pred_avg_log_conc_lgm0, pred_std_log_conc_lgm0, pred_std_log_conc_p50 = _preds\n"
   ]
  },
  {
   "cell_type": "code",
   "execution_count": null,
   "id": "67655aa7",
   "metadata": {},
   "outputs": [],
   "source": []
  },
  {
   "cell_type": "code",
   "execution_count": 41,
   "id": "1cf8d895",
   "metadata": {},
   "outputs": [
    {
     "data": {
      "image/png": "[encoded data removed]",
      "text/plain": [
       "<Figure size 792x288 with 3 Axes>"
      ]
     },
     "metadata": {},
     "output_type": "display_data"
    }
   ],
   "source": [
    "from scipy.stats.mstats import trimmed_mean, trimmed_std\n",
    "trimming_factor = trimmed_std(np.random.normal(loc=0, scale=1, size=int(1e5)))\n",
    "\n",
    "\n",
    "fig, axes = plt.subplots(1, 3, sharex=True, sharey=True, figsize=(11, 4))\n",
    "(ax0, ax1, ax2) = axes\n",
    "fig.subplots_adjust(wspace=0, hspace=0)\n",
    "xlim = ax0.set_xlim(2.5, 13.75)\n",
    "ylim = ax0.set_ylim(2, 15)\n",
    "\n",
    "MHALO_LABELS = (r'$M_{\\rm halo}=10^{12}{\\rm M_{\\odot}}$', \n",
    "          r'$M_{\\rm halo}=10^{13}{\\rm M_{\\odot}}$',\n",
    "          r'$M_{\\rm halo}=10^{14}{\\rm M_{\\odot}}$')\n",
    "for im, ax in enumerate(axes):\n",
    "\n",
    "    __=ax.plot(TARR_FIT, 10**target_avg_log_conc_lgm0[im, :], color='k', label=r'${\\rm simulation}$')\n",
    "    __=ax.plot(TARR_FIT, 10**target_sim_avg_log_conc_lgm0[im, :], '--', color=mred, label=r'${\\rm simulation}$')\n",
    "    __=ax.plot(TARR_FIT, 10**pred_avg_log_conc_lgm0[im, :], '--', color='k', label=r'${\\rm DiffprofPop}$')\n",
    "\n",
    "    lgylo = target_avg_log_conc_lgm0[im, :] - target_std_log_conc_lgm0[im, :]\n",
    "    lgyhi = target_avg_log_conc_lgm0[im, :] + target_std_log_conc_lgm0[im, :]\n",
    "    __=ax.fill_between(TARR_FIT, 10**lgylo, 10**lgyhi, color='lightgray', alpha=0.7)\n",
    "\n",
    "    lgylo = target_sim_avg_log_conc_lgm0[im, :] - target_sim_std_log_conc_lgm0[im, :]/trimming_factor\n",
    "    lgyhi = target_sim_avg_log_conc_lgm0[im, :] + target_sim_std_log_conc_lgm0[im, :]/trimming_factor\n",
    "    __=ax.fill_between(TARR_FIT, 10**lgylo, 10**lgyhi, color='gray', alpha=0.7)\n",
    "\n",
    "    lgylo = pred_avg_log_conc_lgm0[im, :] - pred_std_log_conc_lgm0[im, :]\n",
    "    lgyhi = pred_avg_log_conc_lgm0[im, :] + pred_std_log_conc_lgm0[im, :]\n",
    "    __=ax.plot(TARR_FIT, 10**lgylo, '--', color='k')\n",
    "    __=ax.plot(TARR_FIT, 10**lgyhi, '--', color='k')\n",
    "\n",
    "    xlabel = ax.set_xlabel(r'${\\rm cosmic\\ time}$')\n",
    "    title = ax.set_title(MHALO_LABELS[im])\n",
    "    leg = ax.legend()\n",
    "ylabel = ax0.set_ylabel(r'$\\langle c(t)\\ \\vert\\ M_{\\rm halo}\\rangle$')"
   ]
  },
  {
   "cell_type": "code",
   "execution_count": null,
   "id": "910425d1",
   "metadata": {},
   "outputs": [],
   "source": []
  },
  {
   "cell_type": "code",
   "execution_count": 38,
   "id": "fe97f70f",
   "metadata": {},
   "outputs": [
    {
     "data": {
      "text/plain": [
       "0.6630773397560786"
      ]
     },
     "execution_count": 38,
     "metadata": {},
     "output_type": "execute_result"
    }
   ],
   "source": [
    "from scipy.stats.mstats import trimmed_mean, trimmed_std\n",
    "trimmed_std(np.random.normal(loc=0, scale=1, size=int(1e5)))"
   ]
  },
  {
   "cell_type": "code",
   "execution_count": null,
   "id": "88ca2f1f",
   "metadata": {},
   "outputs": [],
   "source": []
  },
  {
   "cell_type": "code",
   "execution_count": null,
   "id": "b4553a52",
   "metadata": {},
   "outputs": [],
   "source": []
  },
  {
   "cell_type": "code",
   "execution_count": null,
   "id": "ea09f302",
   "metadata": {},
   "outputs": [],
   "source": []
  },
  {
   "cell_type": "code",
   "execution_count": null,
   "id": "5b80640e",
   "metadata": {},
   "outputs": [],
   "source": []
  },
  {
   "cell_type": "code",
   "execution_count": null,
   "id": "03a89a4b",
   "metadata": {},
   "outputs": [],
   "source": []
  },
  {
   "cell_type": "code",
   "execution_count": null,
   "id": "4d82e1de",
   "metadata": {},
   "outputs": [],
   "source": [
    "fig, axes = plt.subplots(1, 3, sharex=True, sharey=True, figsize=(11, 4))\n",
    "(ax0, ax1, ax2) = axes\n",
    "fig.subplots_adjust(wspace=0, hspace=0)\n",
    "xlim = ax0.set_xlim(3.5, 13.75)\n",
    "ylim = ax0.set_ylim(2, 17)\n",
    "\n",
    "from matplotlib import lines as mlines\n",
    "red_line=mlines.Line2D([],[],ls='-',c=mred,label=r'${\\rm early}$-${\\rm forming\\ halos}$')\n",
    "blue_line=mlines.Line2D([],[],ls='-',c=mblue,label=r'${\\rm late}$-${\\rm forming\\ halos}$')\n",
    "\n",
    "import matplotlib.cm as cm\n",
    "from matplotlib import lines as mlines\n",
    "colormap_seq=np.linspace(1, 0, p50_targets.size)\n",
    "colors=cm.coolwarm(colormap_seq)\n",
    "\n",
    "indx_p50_plot = np.searchsorted(p50_targets, np.array([0.2, 0.4, 0.5, 0.6, 0.8]))\n",
    "p50_plot = p50_targets[indx_p50_plot]\n",
    "\n",
    "for im, ax in enumerate(axes):\n",
    "    for ip in indx_p50_plot:\n",
    "        __=ax.plot(TARR_FIT, 10**target_avg_log_conc_p50_lgm0[im, ip, :], color=colors[ip])\n",
    "        __=ax.plot(TARR_FIT, 10**pred_avg_log_conc_p50[im, ip, :], '--', color=colors[ip])\n",
    "\n",
    "    xlabel = ax.set_xlabel(r'${\\rm cosmic\\ time}$')\n",
    "    title = ax.set_title(MHALO_LABELS[im])\n",
    "\n",
    "    leg=ax.legend(handles=[red_line, blue_line])\n",
    "\n",
    "ylabel = ax0.set_ylabel(r'$\\langle c(t)\\ \\vert\\ M_{\\rm halo}, t_{50\\%}\\rangle$')"
   ]
  },
  {
   "cell_type": "code",
   "execution_count": null,
   "id": "2ce2e1c6",
   "metadata": {},
   "outputs": [],
   "source": []
  },
  {
   "cell_type": "code",
   "execution_count": null,
   "id": "f5486dfc",
   "metadata": {},
   "outputs": [],
   "source": []
  }
 ],
 "metadata": {
  "kernelspec": {
   "display_name": "Python 3 (ipykernel)",
   "language": "python",
   "name": "python3"
  },
  "language_info": {
   "codemirror_mode": {
    "name": "ipython",
    "version": 3
   },
   "file_extension": ".py",
   "mimetype": "text/x-python",
   "name": "python",
   "nbconvert_exporter": "python",
   "pygments_lexer": "ipython3",
   "version": "3.9.13"
  }
 },
 "nbformat": 4,
 "nbformat_minor": 5
}
