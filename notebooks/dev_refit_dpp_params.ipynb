{
 "cells": [
  {
   "cell_type": "code",
   "execution_count": 1,
   "id": "da9b771b",
   "metadata": {},
   "outputs": [],
   "source": [
    "import matplotlib.cm as cm\n",
    "from time import time\n",
    "from matplotlib import lines as mlines\n",
    "import numpy as np\n",
    "from jax import random as jran\n",
    "\n",
    "ran_key = jran.PRNGKey(180)"
   ]
  },
  {
   "cell_type": "markdown",
   "id": "d75b41d5",
   "metadata": {},
   "source": [
    "## Load simulation data with diffprof fits"
   ]
  },
  {
   "cell_type": "code",
   "execution_count": 2,
   "id": "9d287e9b",
   "metadata": {},
   "outputs": [
    {
     "name": "stdout",
     "output_type": "stream",
     "text": [
      "['halo_id', 'conc_beta_early', 'conc_beta_late', 'conc_k', 'conc_lgtc', 'u_conc_beta_early', 'u_conc_beta_late', 'u_conc_k', 'u_conc_lgtc', 'logmp', 'mah_early', 'mah_late', 'mah_logtc', 'mah_k', 'log_mah_fit', 'conch_fit', 'tform_50', 'p_tform_50']\n"
     ]
    }
   ],
   "source": [
    "import os\n",
    "from astropy.table import Table\n",
    "diffprof_drn = \"/Users/aphearin/work/DATA/diffprof_data\"\n",
    "mdpl2 = Table.read(os.path.join(diffprof_drn, \"MDPL2_halo_table.hdf5\"))\n",
    "bpl = Table.read(os.path.join(diffprof_drn, \"BPL_halo_table.hdf5\"))\n",
    "print(bpl.keys())"
   ]
  },
  {
   "cell_type": "markdown",
   "id": "17b2b02f",
   "metadata": {},
   "source": [
    "## Calculate dpp approximations for $c(t)$ for every halo"
   ]
  },
  {
   "cell_type": "code",
   "execution_count": 3,
   "id": "7715b651",
   "metadata": {},
   "outputs": [],
   "source": [
    "from diffprof.nfw_evolution import lgc_vs_lgt\n",
    "\n",
    "lgc_vs_lgt_vmap = jjit(jvmap(lgc_vs_lgt, in_axes=(None, 0, 0, 0, 0)))\n",
    "\n",
    "N_T = 25\n",
    "TARR_FIT = np.linspace(3.5, 13.8, N_T)\n",
    "\n",
    "lgconc_history_bpl = np.array(lgc_vs_lgt_vmap(\n",
    "    np.log10(TARR_FIT), bpl[\"conc_lgtc\"], bpl[\"conc_k\"], bpl[\"conc_beta_early\"], bpl[\"conc_beta_late\"]))\n",
    "lgconc_history_mdpl2 = np.array(lgc_vs_lgt_vmap(\n",
    "    np.log10(TARR_FIT), mdpl2[\"conc_lgtc\"], mdpl2[\"conc_k\"], mdpl2[\"conc_beta_early\"], mdpl2[\"conc_beta_late\"]))\n"
   ]
  },
  {
   "cell_type": "markdown",
   "id": "4ca1daf3",
   "metadata": {},
   "source": [
    "## Measure sumstats of $c(t)$ for simulated halo samples"
   ]
  },
  {
   "cell_type": "code",
   "execution_count": 4,
   "id": "f25e2649",
   "metadata": {},
   "outputs": [],
   "source": [
    "from diffprof.latin_hypercube import get_scipy_kdtree, retrieve_lh_sample_indices\n",
    "tree_bpl = get_scipy_kdtree(bpl['logmp'])\n",
    "tree_mdpl2 = get_scipy_kdtree(mdpl2['logmp'])\n",
    "\n",
    "indx_bpl = retrieve_lh_sample_indices(tree_bpl, 11.35, 13.65, 1, 100_000)\n",
    "indx_mdpl2 = retrieve_lh_sample_indices(tree_mdpl2, 13.4, 14.6, 1, 100_000)"
   ]
  },
  {
   "cell_type": "code",
   "execution_count": 5,
   "id": "0f430121",
   "metadata": {},
   "outputs": [],
   "source": [
    "from diffprof.get_target_simdata import target_data_generator\n",
    "\n",
    "N_MH_TARGETS, N_P_TARGETS = 10, 10\n",
    "\n",
    "args = (bpl['logmp'][indx_bpl],\n",
    "    mdpl2['logmp'][indx_mdpl2],\n",
    "    lgconc_history_bpl[indx_bpl],\n",
    "    lgconc_history_mdpl2[indx_mdpl2],\n",
    "    bpl['p_tform_50'][indx_bpl],\n",
    "    mdpl2['p_tform_50'][indx_mdpl2],\n",
    "    N_MH_TARGETS,\n",
    "    N_P_TARGETS,\n",
    "       )\n",
    "gen = target_data_generator(*args, lgmh_min=12.0, lgmh_max=14.1, p50_min=0.1, p50_max=0.9)"
   ]
  },
  {
   "cell_type": "code",
   "execution_count": 6,
   "id": "92e6b92c",
   "metadata": {},
   "outputs": [],
   "source": [
    "target_data = next(gen)\n",
    "lgmhalo_targets, p50_targets = target_data[0:2]\n",
    "target_avg_log_conc_lgm0, target_std_log_conc_lgm0 = target_data[2:4]\n",
    "target_avg_log_conc_p50_lgm0, _target_std_log_conc_p50_lgm0 = target_data[4:]"
   ]
  },
  {
   "cell_type": "markdown",
   "id": "9c82ab67",
   "metadata": {},
   "source": [
    "## Generate predictions of best-fitting model"
   ]
  },
  {
   "cell_type": "code",
   "execution_count": 8,
   "id": "8c5568d8",
   "metadata": {},
   "outputs": [],
   "source": [
    "from dev_new_loss import _get_grid_data\n",
    "from diffprof.dpp_opt import get_u_param_grids\n",
    "\n",
    "n_grid = 500\n",
    "grid_key, ran_key = jran.split(ran_key, 2)\n",
    "u_be_grid, u_lgtc_bl_grid = get_u_param_grids(grid_key, n_grid)\n",
    "\n",
    "grid_data = _get_grid_data(p50_targets, TARR_FIT, u_be_grid, u_lgtc_bl_grid)"
   ]
  },
  {
   "cell_type": "code",
   "execution_count": null,
   "id": "ac19f315",
   "metadata": {},
   "outputs": [],
   "source": []
  },
  {
   "cell_type": "code",
   "execution_count": 10,
   "id": "6a177dcc",
   "metadata": {},
   "outputs": [],
   "source": [
    "from diffprof.bpl_dpp import DEFAULT_PARAMS\n",
    "dpp_params = np.array(list(DEFAULT_PARAMS.values()))"
   ]
  },
  {
   "cell_type": "code",
   "execution_count": 11,
   "id": "bb937834",
   "metadata": {},
   "outputs": [
    {
     "data": {
      "text/plain": [
       "DeviceArray(0.0410655, dtype=float32)"
      ]
     },
     "execution_count": 11,
     "metadata": {},
     "output_type": "execute_result"
    }
   ],
   "source": [
    "from dev_new_loss import _mse_loss_multimass\n",
    "\n",
    "_mse_loss_multimass(\n",
    "    dpp_params, grid_data, lgmhalo_targets, \n",
    "    target_avg_log_conc_p50_lgm0, target_avg_log_conc_lgm0, target_std_log_conc_lgm0)"
   ]
  },
  {
   "cell_type": "code",
   "execution_count": 14,
   "id": "32acbb32",
   "metadata": {},
   "outputs": [],
   "source": [
    "from diffprof.fitting_helpers.utils import jax_adam_wrapper\n",
    "from dev_new_loss import _global_loss_func\n",
    "\n",
    "global_loss_data = (grid_data, lgmhalo_targets, target_avg_log_conc_p50_lgm0,\n",
    "                    target_avg_log_conc_lgm0, target_std_log_conc_lgm0)\n",
    "\n",
    "\n",
    "loss = _global_loss_func(dpp_params, global_loss_data)\n",
    "\n",
    "from jax import value_and_grad\n",
    "_global_loss_func_and_grad = value_and_grad(_global_loss_func, argnums=0)\n",
    "loss_and_grads = _global_loss_func_and_grad(dpp_params, global_loss_data)"
   ]
  },
  {
   "cell_type": "code",
   "execution_count": null,
   "id": "1e71d1fa",
   "metadata": {},
   "outputs": [],
   "source": []
  },
  {
   "cell_type": "markdown",
   "id": "915e8b27",
   "metadata": {},
   "source": [
    "## Reoptimize parameters"
   ]
  },
  {
   "cell_type": "code",
   "execution_count": null,
   "id": "362e4c4f",
   "metadata": {},
   "outputs": [],
   "source": [
    "n_steps = 150\n",
    "_res = jax_adam_wrapper(_global_loss_func, dpp_params, global_loss_data, n_steps, n_warmup=1)\n",
    "p_best, loss, loss_history = _res[:3]"
   ]
  },
  {
   "cell_type": "code",
   "execution_count": null,
   "id": "48527651",
   "metadata": {},
   "outputs": [],
   "source": [
    "fig, ax = plt.subplots(1, 1)\n",
    "__=ax.plot(np.log10(loss_history))"
   ]
  },
  {
   "cell_type": "code",
   "execution_count": null,
   "id": "aa870bf6",
   "metadata": {},
   "outputs": [],
   "source": [
    "np.save('new_p_best', p_best)"
   ]
  },
  {
   "cell_type": "code",
   "execution_count": null,
   "id": "68e73a54",
   "metadata": {},
   "outputs": [],
   "source": []
  }
 ],
 "metadata": {
  "kernelspec": {
   "display_name": "Python 3 (ipykernel)",
   "language": "python",
   "name": "python3"
  },
  "language_info": {
   "codemirror_mode": {
    "name": "ipython",
    "version": 3
   },
   "file_extension": ".py",
   "mimetype": "text/x-python",
   "name": "python",
   "nbconvert_exporter": "python",
   "pygments_lexer": "ipython3",
   "version": "3.9.13"
  }
 },
 "nbformat": 4,
 "nbformat_minor": 5
}
