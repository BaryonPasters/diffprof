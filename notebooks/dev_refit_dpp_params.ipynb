{
 "cells": [
  {
   "cell_type": "code",
   "execution_count": 1,
   "id": "b84ea2a1",
   "metadata": {},
   "outputs": [],
   "source": [
    "import matplotlib.cm as cm\n",
    "from time import time\n",
    "from matplotlib import lines as mlines\n",
    "import numpy as np\n",
    "from jax import random as jran\n",
    "\n",
    "ran_key = jran.PRNGKey(180)"
   ]
  },
  {
   "cell_type": "code",
   "execution_count": null,
   "id": "5341af08",
   "metadata": {},
   "outputs": [],
   "source": []
  },
  {
   "cell_type": "code",
   "execution_count": 2,
   "id": "9f793c8e",
   "metadata": {},
   "outputs": [
    {
     "name": "stdout",
     "output_type": "stream",
     "text": [
      "['halo_id', 'conc_beta_early', 'conc_beta_late', 'conc_k', 'conc_lgtc', 'u_conc_beta_early', 'u_conc_beta_late', 'u_conc_k', 'u_conc_lgtc', 'logmp', 'mah_early', 'mah_late', 'mah_logtc', 'mah_k', 'log_mah_fit', 'conch_fit', 'tform_50', 'p_tform_50']\n"
     ]
    }
   ],
   "source": [
    "import os\n",
    "from astropy.table import Table\n",
    "diffprof_drn = \"/Users/aphearin/work/DATA/diffprof_data\"\n",
    "mdpl2 = Table.read(os.path.join(diffprof_drn, \"MDPL2_halo_table.hdf5\"))\n",
    "bpl = Table.read(os.path.join(diffprof_drn, \"BPL_halo_table.hdf5\"))\n",
    "print(bpl.keys())"
   ]
  },
  {
   "cell_type": "code",
   "execution_count": 3,
   "id": "c3587dff",
   "metadata": {},
   "outputs": [],
   "source": [
    "from diffprof.nfw_evolution import lgc_vs_lgt\n",
    "\n",
    "lgc_vs_lgt_vmap = jjit(jvmap(lgc_vs_lgt, in_axes=(None, 0, 0, 0, 0)))\n",
    "\n",
    "N_T = 25\n",
    "TARR_FIT = np.linspace(3.5, 13.8, N_T)\n",
    "\n",
    "lgconc_history_bpl = np.array(lgc_vs_lgt_vmap(\n",
    "    np.log10(TARR_FIT), bpl[\"conc_lgtc\"], bpl[\"conc_k\"], bpl[\"conc_beta_early\"], bpl[\"conc_beta_late\"]))\n",
    "lgconc_history_mdpl2 = np.array(lgc_vs_lgt_vmap(\n",
    "    np.log10(TARR_FIT), mdpl2[\"conc_lgtc\"], mdpl2[\"conc_k\"], mdpl2[\"conc_beta_early\"], mdpl2[\"conc_beta_late\"]))\n"
   ]
  },
  {
   "cell_type": "code",
   "execution_count": 4,
   "id": "a6bec354",
   "metadata": {},
   "outputs": [],
   "source": [
    "from diffprof.latin_hypercube import get_scipy_kdtree, retrieve_lh_sample_indices\n",
    "tree_bpl = get_scipy_kdtree(bpl['logmp'])\n",
    "tree_mdpl2 = get_scipy_kdtree(mdpl2['logmp'])\n",
    "\n",
    "indx_bpl = retrieve_lh_sample_indices(tree_bpl, 11.35, 13.65, 1, 100_000)\n",
    "indx_mdpl2 = retrieve_lh_sample_indices(tree_mdpl2, 13.4, 14.6, 1, 100_000)"
   ]
  },
  {
   "cell_type": "code",
   "execution_count": 5,
   "id": "98dd9e00",
   "metadata": {},
   "outputs": [],
   "source": [
    "from diffprof.get_target_simdata import target_data_generator\n",
    "\n",
    "N_MH_TARGETS, N_P_TARGETS = 10, 15\n",
    "\n",
    "args = (bpl['logmp'][indx_bpl],\n",
    "    mdpl2['logmp'][indx_mdpl2],\n",
    "    lgconc_history_bpl[indx_bpl],\n",
    "    lgconc_history_mdpl2[indx_mdpl2],\n",
    "    bpl['p_tform_50'][indx_bpl],\n",
    "    mdpl2['p_tform_50'][indx_mdpl2],\n",
    "    N_MH_TARGETS,\n",
    "    N_P_TARGETS,\n",
    "       )\n",
    "gen = target_data_generator(*args, lgmh_min=12.25, lgmh_max=14.5, p50_min=0.1, p50_max=0.9)"
   ]
  },
  {
   "cell_type": "code",
   "execution_count": 6,
   "id": "926f3d19",
   "metadata": {},
   "outputs": [],
   "source": [
    "target_data = next(gen)\n",
    "lgmhalo_targets, p50_targets = target_data[0:2]\n",
    "target_avg_log_conc_lgm0, target_std_log_conc_lgm0 = target_data[2:4]\n",
    "target_avg_log_conc_p50_lgm0, _target_std_log_conc_p50_lgm0 = target_data[4:]"
   ]
  },
  {
   "cell_type": "code",
   "execution_count": null,
   "id": "bbe7f34b",
   "metadata": {},
   "outputs": [],
   "source": []
  },
  {
   "cell_type": "code",
   "execution_count": 7,
   "id": "86934df5",
   "metadata": {},
   "outputs": [],
   "source": [
    "from dev_new_loss import _get_grid_data\n",
    "from diffprof.dpp_opt import get_u_param_grids\n",
    "\n",
    "n_grid = 2500\n",
    "grid_key, ran_key = jran.split(ran_key, 2)\n",
    "u_be_grid, u_lgtc_bl_grid = get_u_param_grids(grid_key, n_grid)\n",
    "\n",
    "grid_data = _get_grid_data(p50_targets, TARR_FIT, u_be_grid, u_lgtc_bl_grid)"
   ]
  },
  {
   "cell_type": "code",
   "execution_count": null,
   "id": "e1e75c50",
   "metadata": {},
   "outputs": [],
   "source": []
  },
  {
   "cell_type": "code",
   "execution_count": 8,
   "id": "0b2f4b2d",
   "metadata": {},
   "outputs": [],
   "source": [
    "from diffprof.bpl_dpp import DEFAULT_PARAMS\n",
    "dpp_params = np.array(list(DEFAULT_PARAMS.values()))"
   ]
  },
  {
   "cell_type": "code",
   "execution_count": 9,
   "id": "fc1ad35e",
   "metadata": {},
   "outputs": [
    {
     "data": {
      "text/plain": [
       "DeviceArray(0.0419875, dtype=float32)"
      ]
     },
     "execution_count": 9,
     "metadata": {},
     "output_type": "execute_result"
    }
   ],
   "source": [
    "from dev_new_loss import _mse_loss_multimass\n",
    "\n",
    "_mse_loss_multimass(\n",
    "    dpp_params, grid_data, lgmhalo_targets, \n",
    "    target_avg_log_conc_p50_lgm0, target_avg_log_conc_lgm0, target_std_log_conc_lgm0)"
   ]
  },
  {
   "cell_type": "code",
   "execution_count": 10,
   "id": "621a32ef",
   "metadata": {},
   "outputs": [
    {
     "data": {
      "text/plain": [
       "DeviceArray(0.0419875, dtype=float32)"
      ]
     },
     "execution_count": 10,
     "metadata": {},
     "output_type": "execute_result"
    }
   ],
   "source": [
    "from diffprof.fitting_helpers.utils import jax_adam_wrapper\n",
    "from dev_new_loss import _global_loss_func\n",
    "\n",
    "global_loss_data = (grid_data, lgmhalo_targets, target_avg_log_conc_p50_lgm0,\n",
    "                    target_avg_log_conc_lgm0, target_std_log_conc_lgm0)\n",
    "_global_loss_func(dpp_params, global_loss_data)\n"
   ]
  },
  {
   "cell_type": "code",
   "execution_count": 11,
   "id": "214d52e4",
   "metadata": {},
   "outputs": [],
   "source": []
  },
  {
   "cell_type": "code",
   "execution_count": 14,
   "id": "f03b9175",
   "metadata": {},
   "outputs": [
    {
     "data": {
      "text/plain": [
       "(DeviceArray(0.0419875, dtype=float32),\n",
       " DeviceArray([-2.2738332e-04, -1.8317347e-04,  0.0000000e+00,\n",
       "               1.5584535e-02,  4.0276363e-02,  3.8385794e-02,\n",
       "              -2.0394367e-03, -2.1626712e-03,  1.5869583e-03,\n",
       "               1.5766197e-03,  6.0215534e-05,  6.8461726e-05,\n",
       "               9.4727264e-04,  1.1531706e-03, -6.1068614e-04,\n",
       "              -6.6237990e-04, -1.8160467e-04, -1.9964800e-04,\n",
       "              -6.1276101e-02, -6.6057540e-02,  3.0931115e-02,\n",
       "               3.0642170e-02,  5.7976344e-04,  6.3219003e-04,\n",
       "              -7.6020238e-05, -6.7934205e-05,  7.2569363e-03,\n",
       "              -4.5228102e-03, -9.1301417e-03, -2.3700021e-02,\n",
       "               4.9226190e-05,  2.4835881e-02, -6.8975822e-03],            dtype=float32))"
      ]
     },
     "execution_count": 14,
     "metadata": {},
     "output_type": "execute_result"
    }
   ],
   "source": [
    "from jax import value_and_grad\n",
    "\n",
    "_global_loss_func_and_grad = value_and_grad(_global_loss_func, argnums=0)\n",
    "_global_loss_func_and_grad(dpp_params, global_loss_data)\n"
   ]
  },
  {
   "cell_type": "code",
   "execution_count": null,
   "id": "705fa70c",
   "metadata": {},
   "outputs": [],
   "source": []
  },
  {
   "cell_type": "code",
   "execution_count": 19,
   "id": "713ef1ff",
   "metadata": {},
   "outputs": [],
   "source": [
    "n_steps = 250\n",
    "_res = jax_adam_wrapper(_global_loss_func, dpp_params, global_loss_data, n_steps, n_warmup=0)\n",
    "p_best, loss, loss_history = _res[:3]"
   ]
  },
  {
   "cell_type": "code",
   "execution_count": 20,
   "id": "654302e2",
   "metadata": {},
   "outputs": [
    {
     "data": {
      "image/png": "[encoded data removed]",
      "text/plain": [
       "<Figure size 432x288 with 1 Axes>"
      ]
     },
     "metadata": {},
     "output_type": "display_data"
    }
   ],
   "source": [
    "fig, ax = plt.subplots(1, 1)\n",
    "__=ax.plot(np.log10(loss_history))"
   ]
  },
  {
   "cell_type": "code",
   "execution_count": 22,
   "id": "d96b4c9a",
   "metadata": {},
   "outputs": [],
   "source": [
    "np.save('new_p_best', p_best)"
   ]
  },
  {
   "cell_type": "code",
   "execution_count": null,
   "id": "9ff51a03",
   "metadata": {},
   "outputs": [],
   "source": []
  }
 ],
 "metadata": {
  "kernelspec": {
   "display_name": "Python 3 (ipykernel)",
   "language": "python",
   "name": "python3"
  },
  "language_info": {
   "codemirror_mode": {
    "name": "ipython",
    "version": 3
   },
   "file_extension": ".py",
   "mimetype": "text/x-python",
   "name": "python",
   "nbconvert_exporter": "python",
   "pygments_lexer": "ipython3",
   "version": "3.9.13"
  }
 },
 "nbformat": 4,
 "nbformat_minor": 5
}
