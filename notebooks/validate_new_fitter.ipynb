{
 "cells": [
  {
   "cell_type": "code",
   "execution_count": 1,
   "id": "measured-drinking",
   "metadata": {},
   "outputs": [],
   "source": [
    "%matplotlib inline"
   ]
  },
  {
   "cell_type": "code",
   "execution_count": 2,
   "id": "coated-original",
   "metadata": {},
   "outputs": [
    {
     "name": "stdout",
     "output_type": "stream",
     "text": [
      "['halo_id', 'conc_beta_early', 'conc_beta_late', 'conc_k', 'conc_lgtc', 'u_conc_beta_early', 'u_conc_beta_late', 'u_conc_k', 'u_conc_lgtc', 'logmp', 'mah_early', 'mah_late', 'mah_logtc', 'mah_k', 'log_mah_fit', 'conch_fit', 'tform_50', 'p_tform_50', 'conch_sim']\n"
     ]
    }
   ],
   "source": [
    "import os\n",
    "from astropy.table import Table\n",
    "from halotools.sim_manager import CachedHaloCatalog\n",
    "from halotools.utils import crossmatch\n",
    "from halotools.utils import sliding_conditional_percentile\n",
    "from time import time\n",
    "import matplotlib.cm as cm\n",
    "\n",
    "drn = \"/Users/aphearin/work/DATA/diffprof_data\"\n",
    "t_bpl = np.load(\"/Users/aphearin/work/DATA/diffmah_data/PUBLISHED_DATA/bpl_cosmic_time.npy\")\n",
    "bpl = Table.read(os.path.join(drn, \"BPL_halo_table.hdf5\"))\n",
    "bpl_raw = np.load(os.path.join(drn, \"bpl_cens_trunks_conc.npy\"))\n",
    "assert np.allclose(bpl['halo_id'], bpl_raw['halo_id'])\n",
    "bpl['conch_sim'] = bpl_raw['conc']\n",
    "del bpl_raw\n",
    "print(bpl.keys())"
   ]
  },
  {
   "cell_type": "code",
   "execution_count": 3,
   "id": "eleven-company",
   "metadata": {},
   "outputs": [],
   "source": [
    "lgm0 = 12\n",
    "\n",
    "mmsk = np.abs(bpl['logmp'] - lgm0) < 0.1\n",
    "sample = bpl[mmsk]\n",
    "\n",
    "TARR = np.linspace(1, 13.8, 500)\n",
    "LGTARR = np.log10(TARR)\n",
    "LGM_MIN_BPL = 10.5\n"
   ]
  },
  {
   "cell_type": "code",
   "execution_count": 9,
   "id": "provincial-gilbert",
   "metadata": {},
   "outputs": [
    {
     "name": "stdout",
     "output_type": "stream",
     "text": [
      "tc = nan\n",
      "c_min = nan\n",
      "c_late = nan\n"
     ]
    },
    {
     "data": {
      "image/png": "[encoded data removed]",
      "text/plain": [
       "<Figure size 432x288 with 1 Axes>"
      ]
     },
     "metadata": {
      "needs_background": "light"
     },
     "output_type": "display_data"
    }
   ],
   "source": [
    "from scipy.optimize import curve_fit\n",
    "\n",
    "from diffprof.fit_nfw_helpers_lintime import get_loss_data, fit_lgconc\n",
    "from diffprof.nfw_evolution_lintime import lgc_vs_t, DEFAULT_CONC_PARAMS\n",
    "\n",
    "from diffprof.fit_nfw_helpers_fixed_k import get_loss_data as get_loss_data_lgt, fit_lgconc as fit_lgconc_lgt\n",
    "from diffprof.nfw_evolution import lgc_vs_lgt\n",
    "\n",
    "P_DEFAULT = np.array(list(DEFAULT_CONC_PARAMS.values()))\n",
    "\n",
    "ih = np.random.randint(0, len(sample))\n",
    "p_guess = fit_lgconc(t_bpl, sample['conch_sim'][ih, :], sample['log_mah_fit'][ih, :], LGM_MIN_BPL)[0]\n",
    "p_best, loss, method, loss_data = fit_lgconc(\n",
    "    t_bpl, sample['conch_sim'][ih, :], sample['log_mah_fit'][ih, :], LGM_MIN_BPL, p0=np.array(p_guess))\n",
    "xdata, ydata, msk = loss_data\n",
    "\n",
    "p_best_lgt, loss_lgt, method_lgt, loss_data_lgt = fit_lgconc_lgt(\n",
    "    t_bpl, sample['conch_sim'][ih, :], sample['log_mah_fit'][ih, :], LGM_MIN_BPL)\n",
    "xdata_lgt, ydata_lgt, msk_lgt = loss_data_lgt\n",
    "\n",
    "fig, ax = plt.subplots(1, 1)\n",
    "\n",
    "__=ax.plot(t_bpl, sample['conch_sim'][ih, :])\n",
    "__=ax.plot(xdata, 10**ydata)\n",
    "\n",
    "__=ax.plot(TARR, 10**lgc_vs_t(TARR, *p_guess), '--', color=mred)\n",
    "__=ax.plot(TARR, 10**lgc_vs_t(TARR, *p_best), '--', color=mblue)\n",
    "__=ax.plot(TARR, 10**lgc_vs_lgt(LGTARR, *p_best_lgt), '--', color=mgreen)\n",
    "\n",
    "tc_best, lgc_min, lgc_late = p_best\n",
    "print(\"tc = {}\".format(tc_best))\n",
    "print(\"c_min = {}\".format(10**lgc_min))\n",
    "print(\"c_late = {}\".format(10**lgc_late))"
   ]
  },
  {
   "cell_type": "code",
   "execution_count": 5,
   "id": "forward-funeral",
   "metadata": {},
   "outputs": [
    {
     "data": {
      "text/plain": [
       "DeviceArray([0.7624159, 0.3045533, 1.2631224], dtype=float32)"
      ]
     },
     "execution_count": 5,
     "metadata": {},
     "output_type": "execute_result"
    }
   ],
   "source": [
    "p_guess"
   ]
  },
  {
   "cell_type": "code",
   "execution_count": 6,
   "id": "optical-examination",
   "metadata": {},
   "outputs": [
    {
     "data": {
      "text/plain": [
       "Buffer([0.76241505, 0.30455264, 1.2631218 ], dtype=float32)"
      ]
     },
     "execution_count": 6,
     "metadata": {},
     "output_type": "execute_result"
    }
   ],
   "source": [
    "p_best"
   ]
  },
  {
   "cell_type": "code",
   "execution_count": null,
   "id": "controlling-barrel",
   "metadata": {},
   "outputs": [],
   "source": []
  }
 ],
 "metadata": {
  "kernelspec": {
   "display_name": "Python 3",
   "language": "python",
   "name": "python3"
  },
  "language_info": {
   "codemirror_mode": {
    "name": "ipython",
    "version": 3
   },
   "file_extension": ".py",
   "mimetype": "text/x-python",
   "name": "python",
   "nbconvert_exporter": "python",
   "pygments_lexer": "ipython3",
   "version": "3.8.8"
  }
 },
 "nbformat": 4,
 "nbformat_minor": 5
}
