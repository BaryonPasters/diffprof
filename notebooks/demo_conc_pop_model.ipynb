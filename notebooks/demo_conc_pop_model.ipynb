{
 "cells": [
  {
   "cell_type": "code",
   "execution_count": 1,
   "id": "straight-dayton",
   "metadata": {},
   "outputs": [],
   "source": [
    "%matplotlib inline"
   ]
  },
  {
   "cell_type": "code",
   "execution_count": 2,
   "id": "ruled-scope",
   "metadata": {},
   "outputs": [],
   "source": [
    "import matplotlib.cm as cm"
   ]
  },
  {
   "cell_type": "markdown",
   "id": "ignored-liver",
   "metadata": {},
   "source": [
    "### Grab a random latin hypercube grid of $U(\\beta_{\\rm early})$, $U(\\beta_{\\rm late})$ and $U(\\log_{10}\\tau_{\\rm c})$"
   ]
  },
  {
   "cell_type": "code",
   "execution_count": 3,
   "id": "focused-robin",
   "metadata": {},
   "outputs": [
    {
     "name": "stderr",
     "output_type": "stream",
     "text": [
      "WARNING:absl:No GPU/TPU found, falling back to CPU. (Set TF_CPP_MIN_LOG_LEVEL=0 and rerun for more info.)\n"
     ]
    }
   ],
   "source": [
    "from conc_pop_model import get_u_param_grids\n",
    "N_GRID = 250\n",
    "u_be_grid, u_lgtc_bl_grid = get_u_param_grids(N_GRID)"
   ]
  },
  {
   "cell_type": "markdown",
   "id": "three-marsh",
   "metadata": {},
   "source": [
    "### Calculate the PDF weight associated with each grid point and each value of $p_{50\\%}$"
   ]
  },
  {
   "cell_type": "code",
   "execution_count": 4,
   "id": "amateur-tourism",
   "metadata": {},
   "outputs": [
    {
     "name": "stdout",
     "output_type": "stream",
     "text": [
      "(250, 25) (250, 25)\n"
     ]
    }
   ],
   "source": [
    "from conc_pop_model import DEFAULT_PARAMS, get_pdf_weights_on_grid\n",
    "from diffprof.nfw_evolution import DEFAULT_CONC_PARAMS\n",
    "\n",
    "conc_k = DEFAULT_CONC_PARAMS['conc_k']\n",
    "params_p50 = np.array(list(DEFAULT_PARAMS.values()))\n",
    "\n",
    "N_P50 = 25\n",
    "p50_arr = np.linspace(0.1, 0.9, N_P50)\n",
    "\n",
    "_res = get_pdf_weights_on_grid(p50_arr, u_be_grid, u_lgtc_bl_grid, conc_k, params_p50)\n",
    "u_be_weights, u_lgtc_bl_weights = _res\n",
    "\n",
    "print(u_be_weights.shape, u_lgtc_bl_weights.shape)"
   ]
  },
  {
   "cell_type": "markdown",
   "id": "satisfactory-linux",
   "metadata": {},
   "source": [
    "### Generate a prediction for ${\\rm conc}(t)$ for each point on the grid and each value of $p_{50\\%}$"
   ]
  },
  {
   "cell_type": "code",
   "execution_count": 5,
   "id": "cellular-auckland",
   "metadata": {},
   "outputs": [
    {
     "name": "stdout",
     "output_type": "stream",
     "text": [
      "(250, 25, 60)\n"
     ]
    }
   ],
   "source": [
    "from conc_pop_model import lgc_pop_vs_lgt_and_p50, get_param_grids_from_u_param_grids\n",
    "N_TIMES = 60\n",
    "tarr = np.linspace(2, 13.8, N_TIMES)\n",
    "lgtarr = np.log10(tarr)\n",
    "be_grid, lgtc_bl_grid = get_param_grids_from_u_param_grids(u_be_grid, u_lgtc_bl_grid)\n",
    "_res = lgc_pop_vs_lgt_and_p50(lgtarr, p50_arr, be_grid, lgtc_bl_grid, conc_k)\n",
    "lgc_p50_pop = _res\n",
    "print(lgc_p50_pop.shape)"
   ]
  },
  {
   "cell_type": "markdown",
   "id": "expired-boutique",
   "metadata": {},
   "source": [
    "### Calculate $\\langle{\\rm conc}(t)\\vert p_{50\\%}\\rangle$ as the PDF-weighted sum"
   ]
  },
  {
   "cell_type": "code",
   "execution_count": 6,
   "id": "proud-mustang",
   "metadata": {},
   "outputs": [
    {
     "data": {
      "text/plain": [
       "(25, 60)"
      ]
     },
     "execution_count": 6,
     "metadata": {},
     "output_type": "execute_result"
    }
   ],
   "source": [
    "avg_log_conc_p50 = np.sum(u_be_weights.reshape((N_GRID, N_P50, 1))*lgc_p50_pop, axis=0)\n",
    "avg_log_conc_p50.shape"
   ]
  },
  {
   "cell_type": "markdown",
   "id": "funded-default",
   "metadata": {},
   "source": [
    "### Plot the results"
   ]
  },
  {
   "cell_type": "code",
   "execution_count": 7,
   "id": "double-crash",
   "metadata": {},
   "outputs": [
    {
     "data": {
      "image/png": "[encoded data removed]",
      "text/plain": [
       "<Figure size 432x288 with 1 Axes>"
      ]
     },
     "metadata": {
      "needs_background": "light"
     },
     "output_type": "display_data"
    }
   ],
   "source": [
    "colormap_seq=np.linspace(1, 0, N_P50)\n",
    "colors=cm.coolwarm(colormap_seq)\n",
    "\n",
    "\n",
    "fig, ax = plt.subplots(1, 1)\n",
    "yscale = ax.set_yscale('log')\n",
    "ylim = ax.set_ylim(1, 90)\n",
    "xlim = ax.set_xlim(1.5, 13.8)\n",
    "for ip50 in range(N_P50):\n",
    "    __=ax.plot(tarr, 10**avg_log_conc_p50[ip50, :], color=colors[ip50])"
   ]
  },
  {
   "cell_type": "markdown",
   "id": "progressive-astronomy",
   "metadata": {},
   "source": [
    "### Hmmm...\n",
    "\n",
    "There is very little, if any, $p_{50\\%}-$dependence that shows up in that plot. This _could_ just mean that the model parameters are poorly tuned (which is my guess), or it could mean there is a bug somewhere, I haven't had a chance to do more testing. For now I would proceed with next steps with existing code, but just remember that there could be some more digging to do here to finish the single-mass implementation.\n",
    "\n",
    "## Next steps\n",
    "\n",
    "### Step 1\n",
    "For starters, in order to make sure everything is working correctly, pick a single mass and use gradient descent to fit the parameters of this model to capture the usual summary statistics:\n",
    "1. $\\langle{\\rm log_{10}(conc(t))}\\vert p_{50\\%},M_0\\rangle$\n",
    "2. $\\langle{\\rm log_{10}(conc(t))}\\vert M_0\\rangle$\n",
    "3. $\\sigma({\\rm log_{10}(conc(t))}\\vert M_0)$\n",
    "\n",
    "Calculating (1) is demonstrated above in this notebook. You will calculate (2) by averaging over $p_{50\\%}$. You will calculate (3) by _first_ squaring the result of (2), and then in a separate step, calculating $\\langle{\\rm log_{10}(conc(t))^{2}}\\vert M_0\\rangle$, and then finally taking the square root of their difference. See the ${\\tt diffmah}$ source code for an example of how to differentiably compute the stddev of a logarithmic variable, which for you is $x={\\rm log_{10}(conc(t))},$ whereas in ${\\tt diffmah}$ was $x=\\log_{10}(M_{\\rm halo}(t)).$\n",
    "\n",
    "When you do the fitting, for your target data try using the target data model function, hopefully it will be less noisy than the actual simulated data. Try and use the \"batch-training\" trick we discussed on slack, such that for each step of the gradient descent, generate some new target data based on a newly generated array of grid parameters and $p_{50\\%$ values. The notebook I shared with you on Slack shows how to do this using a latin hypercube to randomly generate the arrays. Repeat this exercise for a few different values of $M_0$ and verify that the differentiable model has been formulated with sufficient flexibility to give an accurate approximation.\n",
    "\n",
    "### Step 2\n",
    "Once you have a working differentiable version of the single-mass model, then it will be time to adapt the code to build a differentiable mass-dependent model. When you train the model, again use the batch-training tricks, this time selecting different parameter grids and different $p_{50\\%}$ and different $M_0$ grids each time. Once you have an accurate fit of the population-level model across $M_0$ and $p_{50\\%},$ that will be the principal result of the project and it will be time to write up the results and submit for publication."
   ]
  },
  {
   "cell_type": "code",
   "execution_count": null,
   "id": "opposed-excerpt",
   "metadata": {},
   "outputs": [],
   "source": []
  },
  {
   "cell_type": "code",
   "execution_count": null,
   "id": "controversial-notion",
   "metadata": {},
   "outputs": [],
   "source": []
  }
 ],
 "metadata": {
  "kernelspec": {
   "display_name": "Python 3",
   "language": "python",
   "name": "python3"
  },
  "language_info": {
   "codemirror_mode": {
    "name": "ipython",
    "version": 3
   },
   "file_extension": ".py",
   "mimetype": "text/x-python",
   "name": "python",
   "nbconvert_exporter": "python",
   "pygments_lexer": "ipython3",
   "version": "3.8.8"
  }
 },
 "nbformat": 4,
 "nbformat_minor": 5
}
